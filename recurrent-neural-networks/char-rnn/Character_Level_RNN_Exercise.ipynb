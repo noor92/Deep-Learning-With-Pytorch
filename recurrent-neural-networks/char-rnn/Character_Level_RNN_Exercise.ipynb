{
 "cells": [
  {
   "cell_type": "markdown",
   "metadata": {},
   "source": [
    "# Character-Level LSTM in PyTorch\n",
    "\n",
    "In this notebook, I'll construct a character-level LSTM with PyTorch. The network will train character by character on some text, then generate new text character by character. As an example, I will train on Anna Karenina. **This model will be able to generate new text based on the text from the book!**\n",
    "\n",
    "This network is based off of Andrej Karpathy's [post on RNNs](http://karpathy.github.io/2015/05/21/rnn-effectiveness/) and [implementation in Torch](https://github.com/karpathy/char-rnn). Below is the general architecture of the character-wise RNN.\n",
    "\n",
    "<img src=\"assets/charseq.jpeg\" width=\"500\">"
   ]
  },
  {
   "cell_type": "code",
   "execution_count": 1,
   "metadata": {
    "collapsed": true
   },
   "outputs": [],
   "source": [
    "import numpy as np\n",
    "import torch\n",
    "from torch import nn\n",
    "import torch.nn.functional as F"
   ]
  },
  {
   "cell_type": "markdown",
   "metadata": {},
   "source": [
    "## Load in Data"
   ]
  },
  {
   "cell_type": "code",
   "execution_count": 2,
   "metadata": {
    "collapsed": true
   },
   "outputs": [],
   "source": [
    "# open text file and read in data as `text`\n",
    "with open('data/anna.txt', 'r') as f:\n",
    "    text = f.read()"
   ]
  },
  {
   "cell_type": "code",
   "execution_count": 3,
   "metadata": {
    "collapsed": true
   },
   "outputs": [
    {
     "data": {
      "text/plain": [
       "'Chapter 1\\n\\n\\nHappy families are all alike; every unhappy family is unhappy in its own\\nway.\\n\\nEverythin'"
      ]
     },
     "execution_count": 3,
     "metadata": {},
     "output_type": "execute_result"
    }
   ],
   "source": [
    "text[:100]"
   ]
  },
  {
   "cell_type": "markdown",
   "metadata": {},
   "source": [
    "### Tokenization\n",
    "\n",
    "In the cells, below, I'm creating a couple **dictionaries** to convert the characters to and from integers. Encoding the characters as integers makes it easier to use as input in the network."
   ]
  },
  {
   "cell_type": "code",
   "execution_count": 5,
   "metadata": {},
   "outputs": [],
   "source": [
    "# encode the text and map each character to an integer and vice versa\n",
    "\n",
    "# we create two dictionaries:\n",
    "# 1. int2char, which maps integers to characters\n",
    "# 2. char2int, which maps characters to unique integers\n",
    "\n",
    "chars = tuple(set(text))\n",
    "int2char = dict(enumerate(chars))\n",
    "char2int = {ch:ii for ii,ch in int2char.items()}\n",
    "\n",
    "# encode the text\n",
    "encoded = np.array([char2int[ch] for ch in text])"
   ]
  },
  {
   "cell_type": "code",
   "execution_count": 10,
   "metadata": {
    "collapsed": true
   },
   "outputs": [
    {
     "data": {
      "text/plain": [
       "array([33, 29, 41, 64,  0, 44, 74,  3, 73,  1,  1,  1, 13, 41, 64, 64, 54,\n",
       "        3, 45, 41, 30, 76, 75, 76, 44, 39,  3, 41, 74, 44,  3, 41, 75, 75,\n",
       "        3, 41, 75, 76,  2, 44, 23,  3, 44, 22, 44, 74, 54,  3, 56, 69, 29,\n",
       "       41, 64, 64, 54,  3, 45, 41, 30, 76, 75, 54,  3, 76, 39,  3, 56, 69,\n",
       "       29, 41, 64, 64, 54,  3, 76, 69,  3, 76,  0, 39,  3, 50, 10, 69,  1,\n",
       "       10, 41, 54, 51,  1,  1, 62, 22, 44, 74, 54,  0, 29, 76, 69])"
      ]
     },
     "execution_count": 10,
     "metadata": {},
     "output_type": "execute_result"
    }
   ],
   "source": [
    "encoded[:100]"
   ]
  },
  {
   "cell_type": "markdown",
   "metadata": {},
   "source": [
    "## Pre-processing the data\n",
    "\n",
    "> * LSTM expects an input that is **one-hot encoded** meaning that each character is converted into an integer (via our created dictionary)\n",
    "* Then converted into a column vector where only it's corresponding integer index will have the value of 1 and the rest of the vector will be filled with 0's."
   ]
  },
  {
   "cell_type": "code",
   "execution_count": 12,
   "metadata": {
    "collapsed": true
   },
   "outputs": [],
   "source": [
    "def one_hot_encode(arr, n_labels):\n",
    "    \n",
    "    # initialize the the encoded array\n",
    "    one_hot = np.zeros((np.multiply(*arr.shape), n_labels), dtype=np.float32)\n",
    "    \n",
    "    # fill the appropriate elements with ones\n",
    "    one_hot[np.arange(one_hot.shape[0]), arr.flatten()] = 1.\n",
    "    \n",
    "    # finally reshape it to get back to the original array\n",
    "    one_hot = one_hot.reshape((*arr.shape, n_labels))\n",
    "    \n",
    "    return one_hot"
   ]
  },
  {
   "cell_type": "code",
   "execution_count": 14,
   "metadata": {
    "collapsed": true
   },
   "outputs": [
    {
     "name": "stdout",
     "output_type": "stream",
     "text": [
      "[[[0. 0. 0. 1. 0. 0. 0.]\n",
      "  [0. 0. 0. 0. 0. 1. 0.]\n",
      "  [0. 1. 0. 0. 0. 0. 0.]]]\n"
     ]
    }
   ],
   "source": [
    "# check that the function works as expected\n",
    "test_seq = np.array([[3, 5, 1]])\n",
    "one_hot = one_hot_encode(test_seq, 7)\n",
    "\n",
    "print(one_hot)"
   ]
  },
  {
   "cell_type": "markdown",
   "metadata": {},
   "source": [
    "## Making training mini-batches\n",
    "\n",
    "\n",
    "To train on this data, we also want to create mini-batches for training. Remember that we want our batches to be multiple sequences of some desired number of sequence steps. Considering a simple example, our batches would look like this:\n",
    "\n",
    "<img src=\"assets/sequence_batching@1x.png\" width=500px>\n",
    "\n",
    "\n",
    "<br>\n",
    "\n",
    "In this example, we'll take the encoded characters (passed in as the `arr` parameter) and split them into multiple sequences, given by `batch_size`. Each of our sequences will be `seq_length` long.\n",
    "\n",
    "### Creating Batches\n",
    "\n",
    "**1. The first thing we need to do is discard some of the text so we only have completely full mini-batches. **\n",
    "\n",
    "Each batch contains $N \\times M$ characters, where $N$ is the batch size (the number of sequences in a batch) and $M$ is the seq_length or number of time steps in a sequence. Then, to get the total number of batches, $K$, that we can make from the array `arr`, you divide the length of `arr` by the number of characters per batch. Once you know the number of batches, you can get the total number of characters to keep from `arr`, $N * M * K$.\n",
    "\n",
    "**2. After that, we need to split `arr` into $N$ batches. ** \n",
    "\n",
    "You can do this using `arr.reshape(size)` where `size` is a tuple containing the dimensions sizes of the reshaped array. We know we want $N$ sequences in a batch, so let's make that the size of the first dimension. For the second dimension, you can use `-1` as a placeholder in the size, it'll fill up the array with the appropriate data for you. After this, you should have an array that is $N \\times (M * K)$.\n",
    "\n",
    "**3. Now that we have this array, we can iterate through it to get our mini-batches. **\n",
    "\n",
    "The idea is each batch is a $N \\times M$ window on the $N \\times (M * K)$ array. For each subsequent batch, the window moves over by `seq_length`. We also want to create both the input and target arrays. Remember that the targets are just the inputs shifted over by one character. The way I like to do this window is use `range` to take steps of size `n_steps` from $0$ to `arr.shape[1]`, the total number of tokens in each sequence. That way, the integers you get from `range` always point to the start of a batch, and each window is `seq_length` wide."
   ]
  },
  {
   "cell_type": "code",
   "execution_count": 84,
   "metadata": {
    "collapsed": true
   },
   "outputs": [],
   "source": [
    "def get_batches(arr, batch_size, seq_length):\n",
    "    '''Create a generator that returns batches of size\n",
    "       batch_size x seq_length from arr.\n",
    "       \n",
    "       Arguments\n",
    "       ---------\n",
    "       arr: Array you want to make batches from\n",
    "       batch_size: Batch size, the number of sequences per batch\n",
    "       seq_length: Number of encoded chars in a sequence\n",
    "    '''\n",
    "    \n",
    "    total_batch_size = batch_size * seq_length\n",
    "    \n",
    "    # Get the number of batches we can make\n",
    "    n_batches = len(arr)//total_batch_size\n",
    "    \n",
    "    # Keep only enough characters to make full batches\n",
    "    arr = arr[:n_batches * total_batch_size]\n",
    "    \n",
    "    # Reshape into batch_size rows\n",
    "    arr = arr.reshape(batch_size,-1)\n",
    "    \n",
    "    #Iterate over the batches using a window of size seq_length\n",
    "    for n in range(0, arr.shape[1], seq_length):\n",
    "        # The features\n",
    "        x = arr[:,n:n+seq_length]\n",
    "   \n",
    "        # The targets, shifted by one\n",
    "        y = np.zeros_like(x)\n",
    "        \n",
    "        try:\n",
    "            y[:,:-1],y[:,-1] = x[:,1:], arr[:,n+seq_length]\n",
    "        except IndexError:\n",
    "            y[:,:-1],y[:,-1] = x[:,1:],arr[:,0]\n",
    "\n",
    "        yield x, y"
   ]
  },
  {
   "cell_type": "markdown",
   "metadata": {},
   "source": [
    "### Test Your Implementation\n",
    "\n",
    "Now I'll make some data sets and we can check out what's going on as we batch data. Here, as an example, I'm going to use a batch size of 8 and 50 sequence steps."
   ]
  },
  {
   "cell_type": "code",
   "execution_count": 85,
   "metadata": {
    "collapsed": true
   },
   "outputs": [],
   "source": [
    "batches = get_batches(encoded, 8, 50)\n",
    "x, y = next(batches)"
   ]
  },
  {
   "cell_type": "code",
   "execution_count": 86,
   "metadata": {
    "collapsed": true
   },
   "outputs": [
    {
     "name": "stdout",
     "output_type": "stream",
     "text": [
      "x\n",
      " [[33 29 41 64  0 44 74  3 73  1]\n",
      " [39 50 69  3  0 29 41  0  3 41]\n",
      " [44 69  7  3 50 74  3 41  3 45]\n",
      " [39  3  0 29 44  3 67 29 76 44]\n",
      " [ 3 39 41 10  3 29 44 74  3  0]\n",
      " [67 56 39 39 76 50 69  3 41 69]\n",
      " [ 3 60 69 69 41  3 29 41  7  3]\n",
      " [ 8 77 75 50 69 39  2 54 51  3]]\n",
      "\n",
      "y\n",
      " [[29 41 64  0 44 74  3 73  1  1]\n",
      " [50 69  3  0 29 41  0  3 41  0]\n",
      " [69  7  3 50 74  3 41  3 45 50]\n",
      " [ 3  0 29 44  3 67 29 76 44 45]\n",
      " [39 41 10  3 29 44 74  3  0 44]\n",
      " [56 39 39 76 50 69  3 41 69  7]\n",
      " [60 69 69 41  3 29 41  7  3 39]\n",
      " [77 75 50 69 39  2 54 51  3 11]]\n"
     ]
    }
   ],
   "source": [
    "# printing out the first 10 items in a sequence, Y IS SHIFTED OVER ONE STEP \n",
    "print('x\\n', x[:10, :10])\n",
    "print('\\ny\\n', y[:10, :10])"
   ]
  },
  {
   "cell_type": "markdown",
   "metadata": {},
   "source": [
    "---\n",
    "## Defining the network with PyTorch\n",
    "<img src=\"assets/charRNN.png\" width=500px>"
   ]
  },
  {
   "cell_type": "code",
   "execution_count": 87,
   "metadata": {
    "collapsed": true
   },
   "outputs": [
    {
     "name": "stdout",
     "output_type": "stream",
     "text": [
      "No GPU available, training on CPU; consider making n_epochs very small.\n"
     ]
    }
   ],
   "source": [
    "# check if GPU is available\n",
    "train_on_gpu = torch.cuda.is_available()\n",
    "if(train_on_gpu):\n",
    "    print('Training on GPU!')\n",
    "else: \n",
    "    print('No GPU available, training on CPU; consider making n_epochs very small.')"
   ]
  },
  {
   "cell_type": "code",
   "execution_count": 88,
   "metadata": {
    "collapsed": true
   },
   "outputs": [],
   "source": [
    "class CharRNN(nn.Module):\n",
    "    \n",
    "    def __init__(self, tokens, n_hidden=256, n_layers=2,\n",
    "                               drop_prob=0.5, lr=0.001):\n",
    "        super().__init__()\n",
    "        self.drop_prob = drop_prob\n",
    "        self.n_layers = n_layers\n",
    "        self.n_hidden = n_hidden\n",
    "        self.lr = lr\n",
    "        \n",
    "        # creating character dictionaries\n",
    "        self.chars = tokens\n",
    "        self.int2char = dict(enumerate(self.chars))\n",
    "        self.char2int = {ch: ii for ii, ch in self.int2char.items()}\n",
    "        \n",
    "        # define the layers of the model\n",
    "        # chars *batch size* \n",
    "        self.lstm = nn.LSTM(len(self.chars),n_hidden,n_layers,dropout = drop_prob,batch_first = True)\n",
    "        \n",
    "        # drop out layer\n",
    "        self.dropout = nn.Dropout(drop_prob)\n",
    "\n",
    "        # the final, fully-connected output layer\n",
    "        self.fc = nn.Linear(n_hidden,len(self.chars))\n",
    "      \n",
    "    \n",
    "    def forward(self, x, hidden):\n",
    "        ''' Forward pass through the network. \n",
    "            These inputs are x, and the hidden/cell state `hidden`. '''\n",
    "                \n",
    "        # get the outputs and the new hidden state from the lstm\n",
    "        ouput,hidden = self.lstm(x,hidden)\n",
    "        \n",
    "        # pass through dropout\n",
    "        out = self.dropout(ouput)\n",
    "                \n",
    "        # stack up LSTM outputs using view\n",
    "        # use contiguous to reshape the output\n",
    "        out = out.contiguous().view(-1, self.n_hidden)\n",
    "        \n",
    "        # put x through the fully-connected layer\n",
    "        out = self.fc(out)\n",
    "        \n",
    "        # return the final output and the hidden state\n",
    "        return out, hidden\n",
    "    \n",
    "    \n",
    "    def init_hidden(self, batch_size):\n",
    "        ''' Initializes hidden state '''\n",
    "        # Create two new tensors with sizes n_layers x batch_size x n_hidden,\n",
    "        # initialized to zero, for hidden state and cell state of LSTM\n",
    "        weight = next(self.parameters()).data\n",
    "        \n",
    "        if (train_on_gpu):\n",
    "            hidden = (weight.new(self.n_layers, batch_size, self.n_hidden).zero_().cuda(),\n",
    "                  weight.new(self.n_layers, batch_size, self.n_hidden).zero_().cuda())\n",
    "        else:\n",
    "            hidden = (weight.new(self.n_layers, batch_size, self.n_hidden).zero_(),\n",
    "                      weight.new(self.n_layers, batch_size, self.n_hidden).zero_())\n",
    "        \n",
    "        return hidden"
   ]
  },
  {
   "cell_type": "markdown",
   "metadata": {},
   "source": [
    "## Time to train\n",
    "\n",
    "The train function gives us the ability to set the number of epochs, the learning rate, and other parameters.\n",
    "\n",
    "Below we're using an Adam optimizer and cross entropy loss since we are looking at character class scores as output. We calculate the loss and perform backpropagation, as usual!\n",
    "\n",
    "A couple of details about training: \n",
    ">* Within the batch loop, we detach the hidden state from its history; this time setting it equal to a new *tuple* variable because an LSTM has a hidden state that is a tuple of the hidden and cell states.\n",
    "* We use [`clip_grad_norm_`](https://pytorch.org/docs/stable/_modules/torch/nn/utils/clip_grad.html) to help prevent exploding gradients."
   ]
  },
  {
   "cell_type": "code",
   "execution_count": 89,
   "metadata": {
    "collapsed": true
   },
   "outputs": [],
   "source": [
    "def train(net, data, epochs=10, batch_size=10, seq_length=50, lr=0.001, clip=5, val_frac=0.1, print_every=10):\n",
    "    ''' Training a network \n",
    "    \n",
    "        Arguments\n",
    "        ---------\n",
    "        \n",
    "        net: CharRNN network\n",
    "        data: text data to train the network\n",
    "        epochs: Number of epochs to train\n",
    "        batch_size: Number of mini-sequences per mini-batch, aka batch size\n",
    "        seq_length: Number of character steps per mini-batch\n",
    "        lr: learning rate\n",
    "        clip: gradient clipping\n",
    "        val_frac: Fraction of data to hold out for validation\n",
    "        print_every: Number of steps for printing training and validation loss\n",
    "    \n",
    "    '''\n",
    "    net.train()\n",
    "    \n",
    "    opt = torch.optim.Adam(net.parameters(), lr=lr)\n",
    "    criterion = nn.CrossEntropyLoss()\n",
    "    \n",
    "    # create training and validation data\n",
    "    val_idx = int(len(data)*(1-val_frac))\n",
    "    data, val_data = data[:val_idx], data[val_idx:]\n",
    "    \n",
    "    if(train_on_gpu):\n",
    "        net.cuda()\n",
    "    \n",
    "    counter = 0\n",
    "    n_chars = len(net.chars)\n",
    "    for e in range(epochs):\n",
    "        # initialize hidden state\n",
    "        h = net.init_hidden(batch_size)\n",
    "        \n",
    "        for x, y in get_batches(data, batch_size, seq_length):\n",
    "            counter += 1\n",
    "            \n",
    "            # One-hot encode our data and make them Torch tensors\n",
    "            x = one_hot_encode(x, n_chars)\n",
    "            inputs, targets = torch.from_numpy(x), torch.from_numpy(y)\n",
    "            \n",
    "            if(train_on_gpu):\n",
    "                inputs, targets = inputs.cuda(), targets.cuda()\n",
    "\n",
    "            # Creating new variables for the hidden state, otherwise\n",
    "            # we'd backprop through the entire training history to detach hidden state\n",
    "            h = tuple([each.data for each in h])\n",
    "\n",
    "            # zero accumulated gradients\n",
    "            net.zero_grad()\n",
    "            \n",
    "            # get the output from the model\n",
    "            output, h = net(inputs, h)\n",
    "            \n",
    "            # calculate the loss and perform backprop\n",
    "            loss = criterion(output, targets.view(batch_size*seq_length))\n",
    "            loss.backward()\n",
    "            # `clip_grad_norm` helps prevent the exploding gradient problem in RNNs / LSTMs.\n",
    "            nn.utils.clip_grad_norm_(net.parameters(), clip)\n",
    "            opt.step() \n",
    "            \n",
    "            # loss stats\n",
    "            if counter % print_every == 0:\n",
    "                # Get validation loss\n",
    "                val_h = net.init_hidden(batch_size)\n",
    "                val_losses = []\n",
    "                net.eval()\n",
    "                for x, y in get_batches(val_data, batch_size, seq_length):\n",
    "                    # One-hot encode our data and make them Torch tensors\n",
    "                    x = one_hot_encode(x, n_chars)\n",
    "                    x, y = torch.from_numpy(x), torch.from_numpy(y)\n",
    "                    \n",
    "                    # Creating new variables for the hidden state, otherwise\n",
    "                    # we'd backprop through the entire training history\n",
    "                    val_h = tuple([each.data for each in val_h])\n",
    "                    \n",
    "                    inputs, targets = x, y\n",
    "                    if(train_on_gpu):\n",
    "                        inputs, targets = inputs.cuda(), targets.cuda()\n",
    "\n",
    "                    output, val_h = net(inputs, val_h)\n",
    "                    val_loss = criterion(output, targets.view(batch_size*seq_length))\n",
    "                \n",
    "                    val_losses.append(val_loss.item())\n",
    "                \n",
    "                net.train() # reset to train mode after iterationg through validation data\n",
    "                \n",
    "                print(\"Epoch: {}/{}...\".format(e+1, epochs),\n",
    "                      \"Step: {}...\".format(counter),\n",
    "                      \"Loss: {:.4f}...\".format(loss.item()),\n",
    "                      \"Val Loss: {:.4f}\".format(np.mean(val_losses)))"
   ]
  },
  {
   "cell_type": "markdown",
   "metadata": {},
   "source": [
    "## Instantiating the model\n",
    "\n",
    "Now we can actually train the network. First we'll create the network itself, with some given hyperparameters. Then, define the mini-batches sizes, and start training!"
   ]
  },
  {
   "cell_type": "code",
   "execution_count": 90,
   "metadata": {
    "collapsed": true
   },
   "outputs": [
    {
     "name": "stdout",
     "output_type": "stream",
     "text": [
      "CharRNN(\n",
      "  (lstm): LSTM(83, 512, num_layers=2, batch_first=True, dropout=0.5)\n",
      "  (dropout): Dropout(p=0.5)\n",
      "  (fc): Linear(in_features=512, out_features=83, bias=True)\n",
      ")\n"
     ]
    }
   ],
   "source": [
    "## TODO: set you model hyperparameters\n",
    "# define and print the net\n",
    "n_hidden= 512\n",
    "n_layers= 2\n",
    "\n",
    "net = CharRNN(chars, n_hidden, n_layers)\n",
    "print(net)"
   ]
  },
  {
   "cell_type": "markdown",
   "metadata": {},
   "source": [
    "### Set your training hyperparameters!"
   ]
  },
  {
   "cell_type": "code",
   "execution_count": 92,
   "metadata": {
    "collapsed": true,
    "scrolled": true
   },
   "outputs": [
    {
     "name": "stdout",
     "output_type": "stream",
     "text": [
      "Epoch: 1/20... Step: 10... Loss: 3.1325... Val Loss: 3.1142\n",
      "Epoch: 1/20... Step: 20... Loss: 3.0799... Val Loss: 3.0983\n",
      "Epoch: 1/20... Step: 30... Loss: 3.0753... Val Loss: 3.0676\n",
      "Epoch: 1/20... Step: 40... Loss: 2.9821... Val Loss: 3.0162\n",
      "Epoch: 1/20... Step: 50... Loss: 2.8917... Val Loss: 2.8600\n",
      "Epoch: 1/20... Step: 60... Loss: 2.8169... Val Loss: 2.7863\n",
      "Epoch: 1/20... Step: 70... Loss: 2.6852... Val Loss: 2.6741\n",
      "Epoch: 1/20... Step: 80... Loss: 2.6031... Val Loss: 2.5701\n",
      "Epoch: 1/20... Step: 90... Loss: 2.5487... Val Loss: 2.5093\n",
      "Epoch: 1/20... Step: 100... Loss: 2.4830... Val Loss: 2.4560\n",
      "Epoch: 1/20... Step: 110... Loss: 2.4305... Val Loss: 2.4197\n",
      "Epoch: 1/20... Step: 120... Loss: 2.3727... Val Loss: 2.3788\n",
      "Epoch: 1/20... Step: 130... Loss: 2.4197... Val Loss: 2.3765\n",
      "Epoch: 2/20... Step: 140... Loss: 2.3595... Val Loss: 2.3328\n",
      "Epoch: 2/20... Step: 150... Loss: 2.3270... Val Loss: 2.2928\n",
      "Epoch: 2/20... Step: 160... Loss: 2.3014... Val Loss: 2.2653\n",
      "Epoch: 2/20... Step: 170... Loss: 2.2413... Val Loss: 2.2373\n",
      "Epoch: 2/20... Step: 180... Loss: 2.2170... Val Loss: 2.2116\n",
      "Epoch: 2/20... Step: 190... Loss: 2.1746... Val Loss: 2.1846\n",
      "Epoch: 2/20... Step: 200... Loss: 2.1810... Val Loss: 2.1615\n",
      "Epoch: 2/20... Step: 210... Loss: 2.1612... Val Loss: 2.1374\n",
      "Epoch: 2/20... Step: 220... Loss: 2.1223... Val Loss: 2.1150\n",
      "Epoch: 2/20... Step: 230... Loss: 2.1183... Val Loss: 2.0986\n",
      "Epoch: 2/20... Step: 240... Loss: 2.0913... Val Loss: 2.0757\n",
      "Epoch: 2/20... Step: 250... Loss: 2.0500... Val Loss: 2.0577\n",
      "Epoch: 2/20... Step: 260... Loss: 2.0223... Val Loss: 2.0377\n",
      "Epoch: 2/20... Step: 270... Loss: 2.0429... Val Loss: 2.0174\n",
      "Epoch: 3/20... Step: 280... Loss: 2.0368... Val Loss: 1.9959\n",
      "Epoch: 3/20... Step: 290... Loss: 2.0114... Val Loss: 1.9781\n",
      "Epoch: 3/20... Step: 300... Loss: 1.9775... Val Loss: 1.9605\n",
      "Epoch: 3/20... Step: 310... Loss: 1.9657... Val Loss: 1.9441\n",
      "Epoch: 3/20... Step: 320... Loss: 1.9244... Val Loss: 1.9263\n",
      "Epoch: 3/20... Step: 330... Loss: 1.9102... Val Loss: 1.9189\n",
      "Epoch: 3/20... Step: 340... Loss: 1.9342... Val Loss: 1.9041\n",
      "Epoch: 3/20... Step: 350... Loss: 1.9073... Val Loss: 1.8855\n",
      "Epoch: 3/20... Step: 360... Loss: 1.8469... Val Loss: 1.8731\n",
      "Epoch: 3/20... Step: 370... Loss: 1.8866... Val Loss: 1.8574\n",
      "Epoch: 3/20... Step: 380... Loss: 1.8626... Val Loss: 1.8507\n",
      "Epoch: 3/20... Step: 390... Loss: 1.8485... Val Loss: 1.8357\n",
      "Epoch: 3/20... Step: 400... Loss: 1.8169... Val Loss: 1.8190\n",
      "Epoch: 3/20... Step: 410... Loss: 1.8224... Val Loss: 1.8104\n",
      "Epoch: 4/20... Step: 420... Loss: 1.8195... Val Loss: 1.8029\n",
      "Epoch: 4/20... Step: 430... Loss: 1.8188... Val Loss: 1.7843\n",
      "Epoch: 4/20... Step: 440... Loss: 1.7978... Val Loss: 1.7762\n",
      "Epoch: 4/20... Step: 450... Loss: 1.7369... Val Loss: 1.7608\n",
      "Epoch: 4/20... Step: 460... Loss: 1.7310... Val Loss: 1.7491\n",
      "Epoch: 4/20... Step: 470... Loss: 1.7763... Val Loss: 1.7424\n",
      "Epoch: 4/20... Step: 480... Loss: 1.7455... Val Loss: 1.7354\n",
      "Epoch: 4/20... Step: 490... Loss: 1.7526... Val Loss: 1.7275\n",
      "Epoch: 4/20... Step: 500... Loss: 1.7535... Val Loss: 1.7163\n",
      "Epoch: 4/20... Step: 510... Loss: 1.7258... Val Loss: 1.7085\n",
      "Epoch: 4/20... Step: 520... Loss: 1.7386... Val Loss: 1.6986\n",
      "Epoch: 4/20... Step: 530... Loss: 1.7034... Val Loss: 1.6932\n",
      "Epoch: 4/20... Step: 540... Loss: 1.6681... Val Loss: 1.6841\n",
      "Epoch: 4/20... Step: 550... Loss: 1.7230... Val Loss: 1.6755\n",
      "Epoch: 5/20... Step: 560... Loss: 1.6828... Val Loss: 1.6741\n",
      "Epoch: 5/20... Step: 570... Loss: 1.6725... Val Loss: 1.6615\n",
      "Epoch: 5/20... Step: 580... Loss: 1.6642... Val Loss: 1.6528\n",
      "Epoch: 5/20... Step: 590... Loss: 1.6570... Val Loss: 1.6449\n",
      "Epoch: 5/20... Step: 600... Loss: 1.6462... Val Loss: 1.6391\n",
      "Epoch: 5/20... Step: 610... Loss: 1.6383... Val Loss: 1.6334\n",
      "Epoch: 5/20... Step: 620... Loss: 1.6351... Val Loss: 1.6226\n",
      "Epoch: 5/20... Step: 630... Loss: 1.6516... Val Loss: 1.6211\n",
      "Epoch: 5/20... Step: 640... Loss: 1.6199... Val Loss: 1.6161\n",
      "Epoch: 5/20... Step: 650... Loss: 1.6225... Val Loss: 1.6085\n",
      "Epoch: 5/20... Step: 660... Loss: 1.5969... Val Loss: 1.6052\n",
      "Epoch: 5/20... Step: 670... Loss: 1.6271... Val Loss: 1.6007\n",
      "Epoch: 5/20... Step: 680... Loss: 1.6101... Val Loss: 1.5958\n",
      "Epoch: 5/20... Step: 690... Loss: 1.5912... Val Loss: 1.5919\n",
      "Epoch: 6/20... Step: 700... Loss: 1.5977... Val Loss: 1.5866\n",
      "Epoch: 6/20... Step: 710... Loss: 1.5853... Val Loss: 1.5784\n",
      "Epoch: 6/20... Step: 720... Loss: 1.5671... Val Loss: 1.5734\n",
      "Epoch: 6/20... Step: 730... Loss: 1.5952... Val Loss: 1.5695\n",
      "Epoch: 6/20... Step: 740... Loss: 1.5540... Val Loss: 1.5656\n",
      "Epoch: 6/20... Step: 750... Loss: 1.5414... Val Loss: 1.5588\n",
      "Epoch: 6/20... Step: 760... Loss: 1.5839... Val Loss: 1.5556\n",
      "Epoch: 6/20... Step: 770... Loss: 1.5650... Val Loss: 1.5554\n",
      "Epoch: 6/20... Step: 780... Loss: 1.5433... Val Loss: 1.5499\n",
      "Epoch: 6/20... Step: 790... Loss: 1.5293... Val Loss: 1.5456\n",
      "Epoch: 6/20... Step: 800... Loss: 1.5452... Val Loss: 1.5415\n",
      "Epoch: 6/20... Step: 810... Loss: 1.5353... Val Loss: 1.5402\n",
      "Epoch: 6/20... Step: 820... Loss: 1.4931... Val Loss: 1.5333\n",
      "Epoch: 6/20... Step: 830... Loss: 1.5556... Val Loss: 1.5329\n",
      "Epoch: 7/20... Step: 840... Loss: 1.5089... Val Loss: 1.5221\n",
      "Epoch: 7/20... Step: 850... Loss: 1.5179... Val Loss: 1.5190\n",
      "Epoch: 7/20... Step: 860... Loss: 1.5037... Val Loss: 1.5142\n",
      "Epoch: 7/20... Step: 870... Loss: 1.5246... Val Loss: 1.5124\n",
      "Epoch: 7/20... Step: 880... Loss: 1.5112... Val Loss: 1.5096\n",
      "Epoch: 7/20... Step: 890... Loss: 1.5115... Val Loss: 1.5024\n",
      "Epoch: 7/20... Step: 900... Loss: 1.4984... Val Loss: 1.5054\n",
      "Epoch: 7/20... Step: 910... Loss: 1.4622... Val Loss: 1.5045\n",
      "Epoch: 7/20... Step: 920... Loss: 1.4973... Val Loss: 1.5013\n",
      "Epoch: 7/20... Step: 930... Loss: 1.4817... Val Loss: 1.4946\n",
      "Epoch: 7/20... Step: 940... Loss: 1.4865... Val Loss: 1.4931\n",
      "Epoch: 7/20... Step: 950... Loss: 1.4981... Val Loss: 1.4897\n",
      "Epoch: 7/20... Step: 960... Loss: 1.4921... Val Loss: 1.4901\n",
      "Epoch: 7/20... Step: 970... Loss: 1.4983... Val Loss: 1.4831\n",
      "Epoch: 8/20... Step: 980... Loss: 1.4845... Val Loss: 1.4797\n",
      "Epoch: 8/20... Step: 990... Loss: 1.4664... Val Loss: 1.4761\n",
      "Epoch: 8/20... Step: 1000... Loss: 1.4669... Val Loss: 1.4721\n",
      "Epoch: 8/20... Step: 1010... Loss: 1.5053... Val Loss: 1.4736\n",
      "Epoch: 8/20... Step: 1020... Loss: 1.4762... Val Loss: 1.4702\n",
      "Epoch: 8/20... Step: 1030... Loss: 1.4569... Val Loss: 1.4662\n",
      "Epoch: 8/20... Step: 1040... Loss: 1.4762... Val Loss: 1.4696\n",
      "Epoch: 8/20... Step: 1050... Loss: 1.4428... Val Loss: 1.4629\n",
      "Epoch: 8/20... Step: 1060... Loss: 1.4563... Val Loss: 1.4651\n",
      "Epoch: 8/20... Step: 1070... Loss: 1.4647... Val Loss: 1.4623\n",
      "Epoch: 8/20... Step: 1080... Loss: 1.4587... Val Loss: 1.4583\n",
      "Epoch: 8/20... Step: 1090... Loss: 1.4338... Val Loss: 1.4544\n",
      "Epoch: 8/20... Step: 1100... Loss: 1.4343... Val Loss: 1.4525\n",
      "Epoch: 8/20... Step: 1110... Loss: 1.4370... Val Loss: 1.4491\n",
      "Epoch: 9/20... Step: 1120... Loss: 1.4583... Val Loss: 1.4497\n",
      "Epoch: 9/20... Step: 1130... Loss: 1.4504... Val Loss: 1.4442\n",
      "Epoch: 9/20... Step: 1140... Loss: 1.4468... Val Loss: 1.4436\n",
      "Epoch: 9/20... Step: 1150... Loss: 1.4638... Val Loss: 1.4436\n",
      "Epoch: 9/20... Step: 1160... Loss: 1.4185... Val Loss: 1.4381\n",
      "Epoch: 9/20... Step: 1170... Loss: 1.4304... Val Loss: 1.4343\n",
      "Epoch: 9/20... Step: 1180... Loss: 1.4199... Val Loss: 1.4365\n",
      "Epoch: 9/20... Step: 1190... Loss: 1.4516... Val Loss: 1.4356\n",
      "Epoch: 9/20... Step: 1200... Loss: 1.3999... Val Loss: 1.4303\n",
      "Epoch: 9/20... Step: 1210... Loss: 1.4126... Val Loss: 1.4283\n",
      "Epoch: 9/20... Step: 1220... Loss: 1.4074... Val Loss: 1.4283\n",
      "Epoch: 9/20... Step: 1230... Loss: 1.3959... Val Loss: 1.4226\n",
      "Epoch: 9/20... Step: 1240... Loss: 1.4133... Val Loss: 1.4223\n",
      "Epoch: 9/20... Step: 1250... Loss: 1.4151... Val Loss: 1.4218\n",
      "Epoch: 10/20... Step: 1260... Loss: 1.4153... Val Loss: 1.4215\n",
      "Epoch: 10/20... Step: 1270... Loss: 1.4090... Val Loss: 1.4201\n",
      "Epoch: 10/20... Step: 1280... Loss: 1.4254... Val Loss: 1.4146\n",
      "Epoch: 10/20... Step: 1290... Loss: 1.4101... Val Loss: 1.4158\n",
      "Epoch: 10/20... Step: 1300... Loss: 1.3984... Val Loss: 1.4128\n",
      "Epoch: 10/20... Step: 1310... Loss: 1.4099... Val Loss: 1.4124\n",
      "Epoch: 10/20... Step: 1320... Loss: 1.3791... Val Loss: 1.4092\n",
      "Epoch: 10/20... Step: 1330... Loss: 1.3854... Val Loss: 1.4097\n",
      "Epoch: 10/20... Step: 1340... Loss: 1.3729... Val Loss: 1.4098\n",
      "Epoch: 10/20... Step: 1350... Loss: 1.3658... Val Loss: 1.4068\n",
      "Epoch: 10/20... Step: 1360... Loss: 1.3697... Val Loss: 1.4047\n",
      "Epoch: 10/20... Step: 1370... Loss: 1.3667... Val Loss: 1.4025\n",
      "Epoch: 10/20... Step: 1380... Loss: 1.4014... Val Loss: 1.3992\n",
      "Epoch: 10/20... Step: 1390... Loss: 1.4128... Val Loss: 1.3965\n",
      "Epoch: 11/20... Step: 1400... Loss: 1.4132... Val Loss: 1.3966\n",
      "Epoch: 11/20... Step: 1410... Loss: 1.4166... Val Loss: 1.3946\n",
      "Epoch: 11/20... Step: 1420... Loss: 1.4211... Val Loss: 1.3922\n",
      "Epoch: 11/20... Step: 1430... Loss: 1.3771... Val Loss: 1.3933\n",
      "Epoch: 11/20... Step: 1440... Loss: 1.4009... Val Loss: 1.3914\n",
      "Epoch: 11/20... Step: 1450... Loss: 1.3318... Val Loss: 1.3930\n",
      "Epoch: 11/20... Step: 1460... Loss: 1.3629... Val Loss: 1.3894\n",
      "Epoch: 11/20... Step: 1470... Loss: 1.3573... Val Loss: 1.3885\n",
      "Epoch: 11/20... Step: 1480... Loss: 1.3741... Val Loss: 1.3863\n",
      "Epoch: 11/20... Step: 1490... Loss: 1.3641... Val Loss: 1.3828\n",
      "Epoch: 11/20... Step: 1500... Loss: 1.3400... Val Loss: 1.3855\n",
      "Epoch: 11/20... Step: 1510... Loss: 1.3244... Val Loss: 1.3841\n",
      "Epoch: 11/20... Step: 1520... Loss: 1.3679... Val Loss: 1.3775\n",
      "Epoch: 12/20... Step: 1530... Loss: 1.4046... Val Loss: 1.3815\n",
      "Epoch: 12/20... Step: 1540... Loss: 1.3724... Val Loss: 1.3761\n",
      "Epoch: 12/20... Step: 1550... Loss: 1.3765... Val Loss: 1.3774\n",
      "Epoch: 12/20... Step: 1560... Loss: 1.3851... Val Loss: 1.3708\n",
      "Epoch: 12/20... Step: 1570... Loss: 1.3344... Val Loss: 1.3745\n",
      "Epoch: 12/20... Step: 1580... Loss: 1.3221... Val Loss: 1.3723\n",
      "Epoch: 12/20... Step: 1590... Loss: 1.3179... Val Loss: 1.3722\n",
      "Epoch: 12/20... Step: 1600... Loss: 1.3355... Val Loss: 1.3650\n",
      "Epoch: 12/20... Step: 1610... Loss: 1.3267... Val Loss: 1.3699\n",
      "Epoch: 12/20... Step: 1620... Loss: 1.3367... Val Loss: 1.3648\n",
      "Epoch: 12/20... Step: 1630... Loss: 1.3576... Val Loss: 1.3661\n",
      "Epoch: 12/20... Step: 1640... Loss: 1.3251... Val Loss: 1.3657\n",
      "Epoch: 12/20... Step: 1650... Loss: 1.2993... Val Loss: 1.3647\n",
      "Epoch: 12/20... Step: 1660... Loss: 1.3632... Val Loss: 1.3608\n",
      "Epoch: 13/20... Step: 1670... Loss: 1.3260... Val Loss: 1.3581\n",
      "Epoch: 13/20... Step: 1680... Loss: 1.3346... Val Loss: 1.3557\n",
      "Epoch: 13/20... Step: 1690... Loss: 1.3184... Val Loss: 1.3573\n",
      "Epoch: 13/20... Step: 1700... Loss: 1.3159... Val Loss: 1.3532\n",
      "Epoch: 13/20... Step: 1710... Loss: 1.2983... Val Loss: 1.3550\n",
      "Epoch: 13/20... Step: 1720... Loss: 1.3080... Val Loss: 1.3503\n",
      "Epoch: 13/20... Step: 1730... Loss: 1.3465... Val Loss: 1.3504\n",
      "Epoch: 13/20... Step: 1740... Loss: 1.3132... Val Loss: 1.3533\n",
      "Epoch: 13/20... Step: 1750... Loss: 1.2904... Val Loss: 1.3513\n",
      "Epoch: 13/20... Step: 1760... Loss: 1.3064... Val Loss: 1.3474\n",
      "Epoch: 13/20... Step: 1770... Loss: 1.3297... Val Loss: 1.3445\n",
      "Epoch: 13/20... Step: 1780... Loss: 1.2936... Val Loss: 1.3458\n",
      "Epoch: 13/20... Step: 1790... Loss: 1.2961... Val Loss: 1.3599\n",
      "Epoch: 13/20... Step: 1800... Loss: 1.3177... Val Loss: 1.3438\n",
      "Epoch: 14/20... Step: 1810... Loss: 1.3308... Val Loss: 1.3412\n",
      "Epoch: 14/20... Step: 1820... Loss: 1.3120... Val Loss: 1.3421\n",
      "Epoch: 14/20... Step: 1830... Loss: 1.3298... Val Loss: 1.3365\n",
      "Epoch: 14/20... Step: 1840... Loss: 1.2711... Val Loss: 1.3330\n",
      "Epoch: 14/20... Step: 1850... Loss: 1.2570... Val Loss: 1.3390\n",
      "Epoch: 14/20... Step: 1860... Loss: 1.3164... Val Loss: 1.3429\n",
      "Epoch: 14/20... Step: 1870... Loss: 1.3214... Val Loss: 1.3364\n",
      "Epoch: 14/20... Step: 1880... Loss: 1.3170... Val Loss: 1.3341\n",
      "Epoch: 14/20... Step: 1890... Loss: 1.3215... Val Loss: 1.3421\n",
      "Epoch: 14/20... Step: 1900... Loss: 1.3011... Val Loss: 1.3376\n",
      "Epoch: 14/20... Step: 1910... Loss: 1.3116... Val Loss: 1.3340\n",
      "Epoch: 14/20... Step: 1920... Loss: 1.2992... Val Loss: 1.3347\n",
      "Epoch: 14/20... Step: 1930... Loss: 1.2662... Val Loss: 1.3403\n",
      "Epoch: 14/20... Step: 1940... Loss: 1.3224... Val Loss: 1.3317\n",
      "Epoch: 15/20... Step: 1950... Loss: 1.2908... Val Loss: 1.3299\n",
      "Epoch: 15/20... Step: 1960... Loss: 1.3006... Val Loss: 1.3296\n",
      "Epoch: 15/20... Step: 1970... Loss: 1.2986... Val Loss: 1.3356\n",
      "Epoch: 15/20... Step: 1980... Loss: 1.2762... Val Loss: 1.3277\n",
      "Epoch: 15/20... Step: 1990... Loss: 1.2736... Val Loss: 1.3271\n",
      "Epoch: 15/20... Step: 2000... Loss: 1.2684... Val Loss: 1.3274\n",
      "Epoch: 15/20... Step: 2010... Loss: 1.2840... Val Loss: 1.3246\n",
      "Epoch: 15/20... Step: 2020... Loss: 1.2956... Val Loss: 1.3264\n",
      "Epoch: 15/20... Step: 2030... Loss: 1.2766... Val Loss: 1.3361\n",
      "Epoch: 15/20... Step: 2040... Loss: 1.2811... Val Loss: 1.3214\n",
      "Epoch: 15/20... Step: 2050... Loss: 1.2669... Val Loss: 1.3198\n",
      "Epoch: 15/20... Step: 2060... Loss: 1.2788... Val Loss: 1.3219\n",
      "Epoch: 15/20... Step: 2070... Loss: 1.2808... Val Loss: 1.3211\n",
      "Epoch: 15/20... Step: 2080... Loss: 1.2732... Val Loss: 1.3177\n",
      "Epoch: 16/20... Step: 2090... Loss: 1.2824... Val Loss: 1.3172\n",
      "Epoch: 16/20... Step: 2100... Loss: 1.2696... Val Loss: 1.3168\n",
      "Epoch: 16/20... Step: 2110... Loss: 1.2637... Val Loss: 1.3161\n",
      "Epoch: 16/20... Step: 2120... Loss: 1.2727... Val Loss: 1.3197\n",
      "Epoch: 16/20... Step: 2130... Loss: 1.2520... Val Loss: 1.3261\n",
      "Epoch: 16/20... Step: 2140... Loss: 1.2561... Val Loss: 1.3210\n",
      "Epoch: 16/20... Step: 2150... Loss: 1.2949... Val Loss: 1.3157\n",
      "Epoch: 16/20... Step: 2160... Loss: 1.2720... Val Loss: 1.3160\n",
      "Epoch: 16/20... Step: 2170... Loss: 1.2701... Val Loss: 1.3183\n",
      "Epoch: 16/20... Step: 2180... Loss: 1.2595... Val Loss: 1.3161\n",
      "Epoch: 16/20... Step: 2190... Loss: 1.2836... Val Loss: 1.3134\n",
      "Epoch: 16/20... Step: 2200... Loss: 1.2502... Val Loss: 1.3165\n",
      "Epoch: 16/20... Step: 2210... Loss: 1.2199... Val Loss: 1.3136\n",
      "Epoch: 16/20... Step: 2220... Loss: 1.2635... Val Loss: 1.3102\n",
      "Epoch: 17/20... Step: 2230... Loss: 1.2388... Val Loss: 1.3175\n",
      "Epoch: 17/20... Step: 2240... Loss: 1.2549... Val Loss: 1.3113\n",
      "Epoch: 17/20... Step: 2250... Loss: 1.2383... Val Loss: 1.3110\n",
      "Epoch: 17/20... Step: 2260... Loss: 1.2501... Val Loss: 1.3056\n",
      "Epoch: 17/20... Step: 2270... Loss: 1.2515... Val Loss: 1.3085\n",
      "Epoch: 17/20... Step: 2280... Loss: 1.2670... Val Loss: 1.3082\n",
      "Epoch: 17/20... Step: 2290... Loss: 1.2522... Val Loss: 1.3101\n",
      "Epoch: 17/20... Step: 2300... Loss: 1.2215... Val Loss: 1.3109\n",
      "Epoch: 17/20... Step: 2310... Loss: 1.2409... Val Loss: 1.3114\n",
      "Epoch: 17/20... Step: 2320... Loss: 1.2457... Val Loss: 1.3063\n",
      "Epoch: 17/20... Step: 2330... Loss: 1.2465... Val Loss: 1.3082\n",
      "Epoch: 17/20... Step: 2340... Loss: 1.2550... Val Loss: 1.3091\n",
      "Epoch: 17/20... Step: 2350... Loss: 1.2581... Val Loss: 1.3032\n",
      "Epoch: 17/20... Step: 2360... Loss: 1.2609... Val Loss: 1.2989\n",
      "Epoch: 18/20... Step: 2370... Loss: 1.2345... Val Loss: 1.3016\n",
      "Epoch: 18/20... Step: 2380... Loss: 1.2405... Val Loss: 1.3015\n",
      "Epoch: 18/20... Step: 2390... Loss: 1.2474... Val Loss: 1.2997\n",
      "Epoch: 18/20... Step: 2400... Loss: 1.2630... Val Loss: 1.3030\n",
      "Epoch: 18/20... Step: 2410... Loss: 1.2636... Val Loss: 1.3002\n",
      "Epoch: 18/20... Step: 2420... Loss: 1.2373... Val Loss: 1.3018\n",
      "Epoch: 18/20... Step: 2430... Loss: 1.2555... Val Loss: 1.2974\n",
      "Epoch: 18/20... Step: 2440... Loss: 1.2323... Val Loss: 1.2993\n",
      "Epoch: 18/20... Step: 2450... Loss: 1.2354... Val Loss: 1.2987\n",
      "Epoch: 18/20... Step: 2460... Loss: 1.2584... Val Loss: 1.2987\n",
      "Epoch: 18/20... Step: 2470... Loss: 1.2420... Val Loss: 1.2952\n",
      "Epoch: 18/20... Step: 2480... Loss: 1.2307... Val Loss: 1.2959\n",
      "Epoch: 18/20... Step: 2490... Loss: 1.2265... Val Loss: 1.2920\n",
      "Epoch: 18/20... Step: 2500... Loss: 1.2174... Val Loss: 1.2925\n",
      "Epoch: 19/20... Step: 2510... Loss: 1.2344... Val Loss: 1.2982\n",
      "Epoch: 19/20... Step: 2520... Loss: 1.2408... Val Loss: 1.2956\n",
      "Epoch: 19/20... Step: 2530... Loss: 1.2421... Val Loss: 1.2916\n",
      "Epoch: 19/20... Step: 2540... Loss: 1.2474... Val Loss: 1.2874\n",
      "Epoch: 19/20... Step: 2550... Loss: 1.2175... Val Loss: 1.2925\n",
      "Epoch: 19/20... Step: 2560... Loss: 1.2431... Val Loss: 1.2910\n",
      "Epoch: 19/20... Step: 2570... Loss: 1.2369... Val Loss: 1.2942\n",
      "Epoch: 19/20... Step: 2580... Loss: 1.2631... Val Loss: 1.3023\n",
      "Epoch: 19/20... Step: 2590... Loss: 1.2177... Val Loss: 1.2918\n",
      "Epoch: 19/20... Step: 2600... Loss: 1.2300... Val Loss: 1.2910\n",
      "Epoch: 19/20... Step: 2610... Loss: 1.2243... Val Loss: 1.2907\n",
      "Epoch: 19/20... Step: 2620... Loss: 1.2100... Val Loss: 1.2897\n",
      "Epoch: 19/20... Step: 2630... Loss: 1.2183... Val Loss: 1.2870\n",
      "Epoch: 19/20... Step: 2640... Loss: 1.2341... Val Loss: 1.2871\n",
      "Epoch: 20/20... Step: 2650... Loss: 1.2299... Val Loss: 1.2869\n",
      "Epoch: 20/20... Step: 2660... Loss: 1.2388... Val Loss: 1.2851\n",
      "Epoch: 20/20... Step: 2670... Loss: 1.2442... Val Loss: 1.2878\n",
      "Epoch: 20/20... Step: 2680... Loss: 1.2332... Val Loss: 1.2842\n",
      "Epoch: 20/20... Step: 2690... Loss: 1.2252... Val Loss: 1.2839\n",
      "Epoch: 20/20... Step: 2700... Loss: 1.2260... Val Loss: 1.2864\n",
      "Epoch: 20/20... Step: 2710... Loss: 1.2052... Val Loss: 1.2850\n",
      "Epoch: 20/20... Step: 2720... Loss: 1.2119... Val Loss: 1.2931\n",
      "Epoch: 20/20... Step: 2730... Loss: 1.1952... Val Loss: 1.2827\n",
      "Epoch: 20/20... Step: 2740... Loss: 1.1951... Val Loss: 1.2849\n",
      "Epoch: 20/20... Step: 2750... Loss: 1.2100... Val Loss: 1.2836\n",
      "Epoch: 20/20... Step: 2760... Loss: 1.1969... Val Loss: 1.2972\n",
      "Epoch: 20/20... Step: 2770... Loss: 1.2402... Val Loss: 1.2873\n",
      "Epoch: 20/20... Step: 2780... Loss: 1.2624... Val Loss: 1.2831\n"
     ]
    }
   ],
   "source": [
    "batch_size = 128\n",
    "seq_length = 100\n",
    "n_epochs =  20\n",
    "\n",
    "# train the model\n",
    "train(net, encoded, epochs=n_epochs, batch_size=batch_size, seq_length=seq_length, lr=0.001, print_every=10)"
   ]
  },
  {
   "cell_type": "markdown",
   "metadata": {},
   "source": [
    "## Getting the best model\n",
    "\n",
    "To set your hyperparameters to get the best performance, you'll want to watch the training and validation losses. If your training loss is much lower than the validation loss, you're overfitting. Increase regularization (more dropout) or use a smaller network. If the training and validation losses are close, you're underfitting so you can increase the size of the network."
   ]
  },
  {
   "cell_type": "markdown",
   "metadata": {},
   "source": [
    "## Hyperparameters\n",
    "\n",
    "Here are the hyperparameters for the network.\n",
    "\n",
    "In defining the model:\n",
    "* `n_hidden` - The number of units in the hidden layers.\n",
    "* `n_layers` - Number of hidden LSTM layers to use.\n",
    "\n",
    "We assume that dropout probability and learning rate will be kept at the default, in this example.\n",
    "\n",
    "And in training:\n",
    "* `batch_size` - Number of sequences running through the network in one pass.\n",
    "* `seq_length` - Number of characters in the sequence the network is trained on. Larger is better typically, the network will learn more long range dependencies. But it takes longer to train. 100 is typically a good number here.\n",
    "* `lr` - Learning rate for training\n",
    "\n",
    "Here's some good advice from Andrej Karpathy on training the network. I'm going to copy it in here for your benefit, but also link to [where it originally came from](https://github.com/karpathy/char-rnn#tips-and-tricks).\n",
    "\n",
    "> ## Tips and Tricks\n",
    "\n",
    ">### Monitoring Validation Loss vs. Training Loss\n",
    ">If you're somewhat new to Machine Learning or Neural Networks it can take a bit of expertise to get good models. The most important quantity to keep track of is the difference between your training loss (printed during training) and the validation loss (printed once in a while when the RNN is run on the validation data (by default every 1000 iterations)). In particular:\n",
    "\n",
    "> - If your training loss is much lower than validation loss then this means the network might be **overfitting**. Solutions to this are to decrease your network size, or to increase dropout. For example you could try dropout of 0.5 and so on.\n",
    "> - If your training/validation loss are about equal then your model is **underfitting**. Increase the size of your model (either number of layers or the raw number of neurons per layer)\n",
    "\n",
    "> ### Approximate number of parameters\n",
    "\n",
    "> The two most important parameters that control the model are `n_hidden` and `n_layers`. I would advise that you always use `n_layers` of either 2/3. The `n_hidden` can be adjusted based on how much data you have. The two important quantities to keep track of here are:\n",
    "\n",
    "> - The number of parameters in your model. This is printed when you start training.\n",
    "> - The size of your dataset. 1MB file is approximately 1 million characters.\n",
    "\n",
    ">These two should be about the same order of magnitude. It's a little tricky to tell. Here are some examples:\n",
    "\n",
    "> - I have a 100MB dataset and I'm using the default parameter settings (which currently print 150K parameters). My data size is significantly larger (100 mil >> 0.15 mil), so I expect to heavily underfit. I am thinking I can comfortably afford to make `n_hidden` larger.\n",
    "> - I have a 10MB dataset and running a 10 million parameter model. I'm slightly nervous and I'm carefully monitoring my validation loss. If it's larger than my training loss then I may want to try to increase dropout a bit and see if that helps the validation loss.\n",
    "\n",
    "> ### Best models strategy\n",
    "\n",
    ">The winning strategy to obtaining very good models (if you have the compute time) is to always err on making the network larger (as large as you're willing to wait for it to compute) and then try different dropout values (between 0,1). Whatever model has the best validation performance (the loss, written in the checkpoint filename, low is good) is the one you should use in the end.\n",
    "\n",
    ">It is very common in deep learning to run many different models with many different hyperparameter settings, and in the end take whatever checkpoint gave the best validation performance.\n",
    "\n",
    ">By the way, the size of your training and validation splits are also parameters. Make sure you have a decent amount of data in your validation set or otherwise the validation performance will be noisy and not very informative."
   ]
  },
  {
   "cell_type": "markdown",
   "metadata": {},
   "source": [
    "## Checkpoint\n",
    "\n",
    "After training, we'll save the model so we can load it again later if we need too. Here I'm saving the parameters needed to create the same architecture, the hidden layer hyperparameters and the text characters."
   ]
  },
  {
   "cell_type": "code",
   "execution_count": 93,
   "metadata": {
    "collapsed": true
   },
   "outputs": [],
   "source": [
    "# change the name, for saving multiple files\n",
    "model_name = 'rnn_x_epoch.net'\n",
    "\n",
    "checkpoint = {'n_hidden': net.n_hidden,\n",
    "              'n_layers': net.n_layers,\n",
    "              'state_dict': net.state_dict(),\n",
    "              'tokens': net.chars}\n",
    "\n",
    "with open(model_name, 'wb') as f:\n",
    "    torch.save(checkpoint, f)"
   ]
  },
  {
   "cell_type": "markdown",
   "metadata": {},
   "source": [
    "---\n",
    "## Making Predictions\n",
    "\n",
    "Now that the model is trained, we'll want to sample from it and make predictions about next characters! To sample, we pass in a character and have the network predict the next character. Then we take that character, pass it back in, and get another predicted character. Just keep doing this and you'll generate a bunch of text!\n",
    "\n",
    "### A note on the `predict`  function\n",
    "\n",
    "The output of our RNN is from a fully-connected layer and it outputs a **distribution of next-character scores**.\n",
    "\n",
    "> To actually get the next character, we apply a softmax function, which gives us a *probability* distribution that we can then sample to predict the next character.\n",
    "\n",
    "### Top K sampling\n",
    "\n",
    "Our predictions come from a categorical probability distribution over all the possible characters. We can make the sample text and make it more reasonable to handle (with less variables) by only considering some $K$ most probable characters. This will prevent the network from giving us completely absurd characters while allowing it to introduce some noise and randomness into the sampled text. Read more about [topk, here](https://pytorch.org/docs/stable/torch.html#torch.topk).\n"
   ]
  },
  {
   "cell_type": "code",
   "execution_count": 94,
   "metadata": {
    "collapsed": true
   },
   "outputs": [],
   "source": [
    "def predict(net, char, h=None, top_k=None):\n",
    "        ''' Given a character, predict the next character.\n",
    "            Returns the predicted character and the hidden state.\n",
    "        '''\n",
    "        \n",
    "        # tensor inputs\n",
    "        x = np.array([[net.char2int[char]]])\n",
    "        x = one_hot_encode(x, len(net.chars))\n",
    "        inputs = torch.from_numpy(x)\n",
    "        \n",
    "        if(train_on_gpu):\n",
    "            inputs = inputs.cuda()\n",
    "        \n",
    "        # detach hidden state from history\n",
    "        h = tuple([each.data for each in h])\n",
    "        # get the output of the model\n",
    "        out, h = net(inputs, h)\n",
    "\n",
    "        # get the character probabilities\n",
    "        p = F.softmax(out, dim=1).data\n",
    "        if(train_on_gpu):\n",
    "            p = p.cpu() # move to cpu\n",
    "        \n",
    "        # get top characters\n",
    "        if top_k is None:\n",
    "            top_ch = np.arange(len(net.chars))\n",
    "        else:\n",
    "            p, top_ch = p.topk(top_k)\n",
    "            top_ch = top_ch.numpy().squeeze()\n",
    "        \n",
    "        # select the likely next character with some element of randomness\n",
    "        p = p.numpy().squeeze()\n",
    "        char = np.random.choice(top_ch, p=p/p.sum())\n",
    "        \n",
    "        # return the encoded value of the predicted char and the hidden state\n",
    "        return net.int2char[char], h"
   ]
  },
  {
   "cell_type": "markdown",
   "metadata": {},
   "source": [
    "### Priming and generating text \n",
    "\n",
    "Typically you'll want to prime the network so you can build up a hidden state. Otherwise the network will start out generating characters at random. In general the first bunch of characters will be a little rough since it hasn't built up a long history of characters to predict from."
   ]
  },
  {
   "cell_type": "code",
   "execution_count": 95,
   "metadata": {
    "collapsed": true
   },
   "outputs": [],
   "source": [
    "def sample(net, size, prime='The', top_k=None):\n",
    "        \n",
    "    if(train_on_gpu):\n",
    "        net.cuda()\n",
    "    else:\n",
    "        net.cpu()\n",
    "    \n",
    "    net.eval() # eval mode\n",
    "    \n",
    "    # First off, run through the prime characters\n",
    "    chars = [ch for ch in prime]\n",
    "    h = net.init_hidden(1)\n",
    "    for ch in prime:\n",
    "        char, h = predict(net, ch, h, top_k=top_k)\n",
    "\n",
    "    chars.append(char)\n",
    "    \n",
    "    # Now pass in the previous character and get a new one\n",
    "    for ii in range(size):\n",
    "        char, h = predict(net, chars[-1], h, top_k=top_k)\n",
    "        chars.append(char)\n",
    "\n",
    "    return ''.join(chars)"
   ]
  },
  {
   "cell_type": "code",
   "execution_count": 97,
   "metadata": {
    "collapsed": true
   },
   "outputs": [
    {
     "name": "stdout",
     "output_type": "stream",
     "text": [
      "Anna's\n",
      "stideness, the case, she-possible, at a confision was not in the\n",
      "peasants, and always would be so true, to see a siget of answer.\n",
      "She with the dressing overchied strupgling his companion there was\n",
      "a lent on the prince.... But at took them.\n",
      "\n",
      "\"What a strudile minute should be so?\" he said.\n",
      "\n",
      "The chird she were since the calmor her husband had been suffering\n",
      "himself and his friend of the moment that he had been thinking of the distait.\n",
      "The feeling assented him, and, the man of a smile of the charming\n",
      "consciousness in her son in the sorn of called his consciousness\n",
      "at the sound of the same words of her shading way of his boudor to his\n",
      "hough as though it was she took it to an agifaction. She was no\n",
      "different clubs of spite at all or home in his bad.\n",
      "\n",
      "\"That she's so for him in the same of it. I have said, she did not know you are\n",
      "still as though,\" said Anna. \"The doubts tode marages to say to\n",
      "she too, we consider that he seemed to be so much on her time it and\n",
      "strange to him all about to hi\n"
     ]
    }
   ],
   "source": [
    "print(sample(net, 1000, prime='Anna', top_k=5))"
   ]
  },
  {
   "cell_type": "markdown",
   "metadata": {},
   "source": [
    "## Loading a checkpoint"
   ]
  },
  {
   "cell_type": "code",
   "execution_count": 98,
   "metadata": {
    "collapsed": true
   },
   "outputs": [],
   "source": [
    "# Here we have loaded in a model that trained over 20 epochs `rnn_20_epoch.net`\n",
    "with open('rnn_x_epoch.net', 'rb') as f:\n",
    "    checkpoint = torch.load(f)\n",
    "    \n",
    "loaded = CharRNN(checkpoint['tokens'], n_hidden=checkpoint['n_hidden'], n_layers=checkpoint['n_layers'])\n",
    "loaded.load_state_dict(checkpoint['state_dict'])"
   ]
  },
  {
   "cell_type": "code",
   "execution_count": 99,
   "metadata": {
    "collapsed": true
   },
   "outputs": [
    {
     "name": "stdout",
     "output_type": "stream",
     "text": [
      "And Levin said to\n",
      "the meadow, who was the staincase, to the sound on his face, and had\n",
      "been to be any more tree, and that it was so fond of the sigrificance\n",
      "of his happy. He was struck him with her to think of the people. The\n",
      "crowd the stendles and her his words, the corridor the princess and\n",
      "the more so stupid to her as the same world of support without his\n",
      "steps, and with the depression of the province. However that he could not\n",
      "call about the moments in the parents that he had been failing of\n",
      "their mother. That were a man was took the personal of the peasants,\n",
      "the same thing towards her and his brother's acquaintances. But the\n",
      "priest, this children with her his sentation. And he saw that his\n",
      "book all the fresh sense of happites. She did not speak of the\n",
      "prince, to say to himself that their house he had such thought of\n",
      "the same still made over him, and an happiness and his hands, and the\n",
      "same time to get a single delight of the contention of her forese for a book, and\n",
      "someone will seen a man was to take their first sing and so meet him,\n",
      "troubling in a fool of the service, and was in a tarler asticial face,\n",
      "while the marsh and her. The corridor, all over her finished and\n",
      "his\n",
      "face, and he was too. Then the matters she saws his brother's\n",
      "heart. She daughter thought in his state to the distussion with\n",
      "her face, to the same to her; he had now there with the concertion\n",
      "of the corress that she sat down, and to this man so as a friend as\n",
      "he had to be said so to his brother.\n",
      "\n",
      "The place to the simple talk to her. He could hove him, and how to\n",
      "trets to him that the contiminess of the most deceit, having a\n",
      "passionable deating or something the trees, and the stream, and hurriedly\n",
      "that which his feet about. Alexey Alexandrovitch could saw to\n",
      "him off intended for her to anster at all the\n",
      "part of the streag was not at him; there was nothing. She was not obsious of\n",
      "the more of his\n",
      "forest to the consciousness of, and he was not the steps.\n",
      "\n",
      "\"Yes, that has a componte in the man, as he has been a lo\n"
     ]
    }
   ],
   "source": [
    "# Sample using a loaded model\n",
    "print(sample(loaded, 2000, top_k=5, prime=\"And Levin said\"))"
   ]
  },
  {
   "cell_type": "code",
   "execution_count": null,
   "metadata": {
    "collapsed": true
   },
   "outputs": [],
   "source": []
  }
 ],
 "metadata": {
  "kernelspec": {
   "display_name": "Python 3",
   "language": "python",
   "name": "python3"
  },
  "language_info": {
   "codemirror_mode": {
    "name": "ipython",
    "version": 3
   },
   "file_extension": ".py",
   "mimetype": "text/x-python",
   "name": "python",
   "nbconvert_exporter": "python",
   "pygments_lexer": "ipython3",
   "version": "3.7.1"
  }
 },
 "nbformat": 4,
 "nbformat_minor": 2
}
