{
 "cells": [
  {
   "cell_type": "markdown",
   "metadata": {},
   "source": [
    "# Neural networks with PyTorch\n",
    "\n",
    "Deep learning networks tend to be massive with dozens or hundreds of layers, that's where the term \"deep\" comes from. You can build one of these deep networks using only weight matrices as we did in the previous notebook, but in general it's very cumbersome and difficult to implement. PyTorch has a nice module `nn` that provides a nice way to efficiently build large neural networks."
   ]
  },
  {
   "cell_type": "code",
   "execution_count": 1,
   "metadata": {},
   "outputs": [],
   "source": [
    "# Import necessary packages\n",
    "\n",
    "%matplotlib inline\n",
    "%config InlineBackend.figure_format = 'retina'\n",
    "\n",
    "import numpy as np\n",
    "import torch\n",
    "\n",
    "import helper\n",
    "\n",
    "import matplotlib.pyplot as plt"
   ]
  },
  {
   "cell_type": "markdown",
   "metadata": {},
   "source": [
    "\n",
    "Now we're going to build a larger network that can solve a (formerly) difficult problem, identifying text in an image. Here we'll use the MNIST dataset which consists of greyscale handwritten digits. Each image is 28x28 pixels, you can see a sample below\n",
    "\n",
    "<img src='assets/mnist.png'>\n",
    "\n",
    "Our goal is to build a neural network that can take one of these images and predict the digit in the image.\n",
    "\n",
    "First up, we need to get our dataset. This is provided through the `torchvision` package. The code below will download the MNIST dataset, then create training and test datasets for us. Don't worry too much about the details here, you'll learn more about this later."
   ]
  },
  {
   "cell_type": "code",
   "execution_count": 2,
   "metadata": {},
   "outputs": [],
   "source": [
    "### Run this cell\n",
    "\n",
    "from torchvision import datasets, transforms\n",
    "\n",
    "# Define a transform to normalize the data\n",
    "transform = transforms.Compose([transforms.ToTensor(),\n",
    "                              transforms.Normalize((0.5,), (0.5,)),\n",
    "                              ])\n",
    "# Download and load the training data\n",
    "trainset = datasets.MNIST('~/.pytorch/MNIST_data/', download=True, train=True, transform=transform)\n",
    "trainloader = torch.utils.data.DataLoader(trainset, batch_size=64, shuffle=True)"
   ]
  },
  {
   "cell_type": "markdown",
   "metadata": {},
   "source": [
    "We have the training data loaded into `trainloader` and we make that an iterator with `iter(trainloader)`. Later, we'll use this to loop through the dataset for training, like\n",
    "\n",
    "```python\n",
    "for image, label in trainloader:\n",
    "    ## do things with images and labels\n",
    "```\n",
    "\n",
    "You'll notice I created the `trainloader` with a batch size of 64, and `shuffle=True`. The batch size is the number of images we get in one iteration from the data loader and pass through our network, often called a *batch*. And `shuffle=True` tells it to shuffle the dataset every time we start going through the data loader again. But here I'm just grabbing the first batch so we can check out the data. We can see below that `images` is just a tensor with size `(64, 1, 28, 28)`. So, 64 images per batch, 1 color channel, and 28x28 images."
   ]
  },
  {
   "cell_type": "code",
   "execution_count": 3,
   "metadata": {},
   "outputs": [
    {
     "name": "stdout",
     "output_type": "stream",
     "text": [
      "<class 'torch.Tensor'>\n",
      "torch.Size([64, 1, 28, 28])\n",
      "torch.Size([64])\n"
     ]
    }
   ],
   "source": [
    "dataiter = iter(trainloader)\n",
    "images, labels = dataiter.next()\n",
    "print(type(images))\n",
    "print(images.shape)\n",
    "print(labels.shape)"
   ]
  },
  {
   "cell_type": "markdown",
   "metadata": {},
   "source": [
    "This is what one of the images looks like. "
   ]
  },
  {
   "cell_type": "code",
   "execution_count": 4,
   "metadata": {},
   "outputs": [
    {
     "data": {
      "image/png": "[encoded data removed]",
      "text/plain": [
       "<Figure size 432x288 with 1 Axes>"
      ]
     },
     "metadata": {
      "image/png": {
       "height": 250,
       "width": 253
      },
      "needs_background": "light"
     },
     "output_type": "display_data"
    }
   ],
   "source": [
    "plt.imshow(images[1].numpy().squeeze(), cmap='Greys_r');"
   ]
  },
  {
   "cell_type": "markdown",
   "metadata": {},
   "source": [
    "First, let's try to build a simple network for this dataset using weight matrices and matrix multiplications. Then, we'll see how to do it using PyTorch's `nn` module which provides a much more convenient and powerful method for defining network architectures.\n",
    "\n",
    "The networks you've seen so far are called *fully-connected* or *dense* networks. Each unit in one layer is connected to each unit in the next layer. In fully-connected networks, the input to each layer must be a one-dimensional vector (which can be stacked into a 2D tensor as a batch of multiple examples). However, our images are 28x28 2D tensors, so we need to convert them into 1D vectors. Thinking about sizes, we need to convert the batch of images with shape `(64, 1, 28, 28)` to a have a shape of `(64, 784)`, 784 is 28 times 28. This is typically called *flattening*, we flattened the 2D images into 1D vectors.\n",
    "\n",
    "Previously you built a network with one output unit. Here we need 10 output units, one for each digit. We want our network to predict the digit shown in an image, so what we'll do is calculate probabilities that the image is of any one digit or class. This ends up being a discrete probability distribution over the classes (digits) that tells us the most likely class for the image. That means we need 10 output units for the 10 classes (digits). We'll see how to convert the network output into a probability distribution next.\n",
    "\n",
    "> **Exercise:** Flatten the batch of images `images`. Then build a multi-layer network with 784 input units, 256 hidden units, and 10 output units using random tensors for the weights and biases. For now, use a sigmoid activation for the hidden layer. Leave the output layer without an activation, we'll add one that gives us a probability distribution next."
   ]
  },
  {
   "cell_type": "code",
   "execution_count": 5,
   "metadata": {},
   "outputs": [
    {
     "name": "stdout",
     "output_type": "stream",
     "text": [
      "tensor([[  6.5047, -18.5704,  14.0797,  23.8725,   4.1977,  15.3130,  -8.1328,\n",
      "         -17.3557,  12.1755,   8.6423],\n",
      "        [ 13.8508,  -8.7541,  10.0923,   7.1265,   9.7018,  13.3625,  10.9044,\n",
      "          -9.1029,   8.3395,  14.6140],\n",
      "        [  1.8900, -11.8824,  13.6396,  10.1982,   9.7461,  20.8496,  -6.7857,\n",
      "          -7.5683,  10.0875,   2.1871],\n",
      "        [ 14.9146, -20.2033,   3.8369,  16.1719,   5.5751,  18.6589,   4.8911,\n",
      "          -9.4400,  10.2290,   5.5098],\n",
      "        [ 18.1681,  -9.6192,   2.0510,  13.9877,   1.0359,  17.0834,  11.8484,\n",
      "          -2.6713,  -2.8092,   1.0025],\n",
      "        [  2.5266, -15.0394,   3.2337,  13.8853,   1.9763,  20.5004,   5.5979,\n",
      "         -12.4568,  -0.3767,  10.8419],\n",
      "        [  8.0012, -11.0958,   7.9420,  16.5181,   5.9726,  14.4457,  -1.4049,\n",
      "           5.0105,  17.3146,   2.3967],\n",
      "        [ 18.7097,  -5.5105,   1.8497,  12.8422,   0.1429,  16.6352,   6.9851,\n",
      "          -4.0995,  10.2673,   9.3334],\n",
      "        [  2.1737, -19.9302,  -2.3441,  20.1651,  -9.2848,  14.8075,   6.2267,\n",
      "          -2.8487,  18.4326,  10.4136],\n",
      "        [  6.9753, -15.3146,   3.4588,  18.1739,   8.4527,  15.3067,  -3.2540,\n",
      "           2.6448,  13.7955,   8.0815],\n",
      "        [  9.5733, -13.9477,   1.9414,  23.2571,   9.4710,  16.9947,  -8.3904,\n",
      "          -3.1536,  12.6104,   8.3806],\n",
      "        [ 18.5372, -15.5670,   0.6148,  15.3764,   2.5772,  12.8466,  11.4883,\n",
      "          -7.4253,  11.0685,   4.1849],\n",
      "        [  7.4428, -26.5438,   2.8865,  17.6165,   5.1356,  18.9196,  10.8492,\n",
      "          -5.6947,   5.4456,   0.0432],\n",
      "        [  1.8394, -19.8852,   7.5513,  20.6204,  -2.7565,  20.7866,   3.1352,\n",
      "          -7.5614,  12.9884,  13.0319],\n",
      "        [ -4.7310, -18.2314,   4.3130,  18.5468,  -9.9337,  18.2738,   6.6862,\n",
      "          -5.7955,  12.4631,   9.6192],\n",
      "        [  1.7474, -19.8425,  -2.6251,  13.1776,   7.2845,  15.2303,   6.0498,\n",
      "           0.2570,  15.9293,  11.5990],\n",
      "        [ 11.1579, -13.1556,   3.9140,  12.1144,  -0.2858,  11.3726,  10.8535,\n",
      "          -5.4029,   7.6285,   5.7300],\n",
      "        [ 17.2616, -15.0475,  12.9253,  14.4011,   7.2260,  21.6917,   1.1974,\n",
      "         -10.5359,   6.4467,   7.5074],\n",
      "        [ 20.1390, -21.6570,  10.7437,  16.2496,   9.0226,  18.3885,   2.5509,\n",
      "          -0.1832,   4.3332,   2.5159],\n",
      "        [ -4.6016, -20.1338,   3.6168,  23.8457,  -2.5999,  18.9055,  10.4108,\n",
      "          -5.3803,   4.4166,  12.4630],\n",
      "        [  0.2546, -15.4364,  -3.2421,  17.7466,  -3.2536,  13.6542,   8.3202,\n",
      "          -7.9929,  16.1175,  10.8034],\n",
      "        [ -2.1028, -23.8428,   6.4973,  25.4720, -10.8390,  18.3120,  -2.8732,\n",
      "          -9.7968,  12.8384,   9.0403],\n",
      "        [  6.8171, -21.8232,  -0.5868,  12.2905,  -3.0623,  18.2757,   7.8120,\n",
      "         -10.3017,   2.4216,   3.3622],\n",
      "        [ 12.7654, -14.0836,  -1.5448,  14.8555,   3.9995,  19.4253,  -4.5298,\n",
      "          -7.3264,   9.8376,   8.9449],\n",
      "        [  5.9704, -22.5980,   3.2020,  25.7797,  -4.6277,   8.6047,   4.8268,\n",
      "          -7.5039,  13.4278,  14.5075],\n",
      "        [  6.7760, -31.2404,   0.9830,  14.5109,   8.5314,  18.2297,  11.4925,\n",
      "         -13.3217,   3.5758,   2.6806],\n",
      "        [ 20.5343,  -6.7569,   4.1665,  11.9280,  -1.1073,  13.6499,   5.0960,\n",
      "          -3.6966,  10.9392,   1.6341],\n",
      "        [  5.0650, -15.9928,   0.1207,  15.9876,   8.6730,  14.9640,   1.1525,\n",
      "           3.0153,  10.5276,  12.0536],\n",
      "        [  6.4622, -18.7091,   7.3766,  16.1533,   0.8538,  19.8722,  -1.3712,\n",
      "          -5.0486,   7.4682,  13.7681],\n",
      "        [  9.4164,  -8.0277,  -1.0439,  12.6819,   9.8385,   8.2742, -11.3986,\n",
      "          -2.9264,   8.5814,   9.6278],\n",
      "        [ 16.7001, -13.2876,  -4.1051,  17.0040,   2.8281,  11.8835,  10.1492,\n",
      "          -2.1912,   3.3563,  13.9882],\n",
      "        [  4.2992, -10.0659,  15.9823,  20.4669,   0.8195,  16.8605,  -5.2718,\n",
      "          -6.4698,  10.5279,   9.3176],\n",
      "        [ 10.3540, -19.9935,  10.8149,  21.3768,   0.4756,  18.2509,  -1.5918,\n",
      "          -2.4425,  14.7730,  10.5081],\n",
      "        [ 20.5395,  -4.9953,   1.8907,  17.0079,   3.1299,  14.0850,   8.2359,\n",
      "          -0.7908,  13.4052,  13.2006],\n",
      "        [ 14.7630, -13.1440,   3.9688,  14.9085,  -0.9111,  21.0666,   5.2120,\n",
      "          -3.0604,  13.2061,  -1.7781],\n",
      "        [ 14.1710, -15.1926,  -6.3892,  11.2562,  -2.5419,  21.8235,  10.7636,\n",
      "          -5.1147,   5.0804,   1.3923],\n",
      "        [ 12.3266, -20.0969,  -2.8428,  19.2116,   8.9339,  15.4496,  -9.0788,\n",
      "          -7.9071,   0.8813,   4.2149],\n",
      "        [  5.9393, -13.1408,   4.8515,  23.5670,  -1.6043,  21.5921,  -2.5901,\n",
      "         -10.8400,  13.2583,   3.1468],\n",
      "        [ 11.1840,  -4.9786,   2.5219,  18.8703,  15.5165,   8.3931,   1.5882,\n",
      "          -5.5271,  12.7292,   8.0132],\n",
      "        [ 16.5823, -10.7154,  -7.5222,  16.4426,   8.1887,  16.8479,  13.0209,\n",
      "          -1.8023,  10.8964,   0.3250],\n",
      "        [ -0.8547, -18.8205,   3.2862,  14.0423,  -9.5869,  18.9459,  -1.5776,\n",
      "          -4.3000,  12.6649,  13.6740],\n",
      "        [  8.6439, -19.8102,   8.9581,  20.2546,   7.0095,  18.8716,  -6.8211,\n",
      "          -5.3977,   8.7185,   8.5080],\n",
      "        [ 11.1517, -13.2055,  10.7007,  22.3604,  -0.1392,  11.3195,   1.1622,\n",
      "           5.4695,   9.4663,   9.5636],\n",
      "        [  9.6637, -14.9468,   1.6629,  10.5098,  -6.7218,  10.2258,  15.9070,\n",
      "          -3.2213,  11.9973,  16.6491],\n",
      "        [  7.2490, -21.7494,   0.3967,  16.5803,  10.1695,  14.2094,   4.1337,\n",
      "          -8.6131,  -0.5780,  13.6829],\n",
      "        [  9.5284, -16.5716,  14.9695,  23.2018,   8.1783,  16.2749,  -5.0229,\n",
      "          -9.6980,  12.2468,  13.2585],\n",
      "        [  9.2156,  -7.4401,   5.7661,   4.9373,   4.9008,  16.6115,   7.6371,\n",
      "          -3.9181,  14.4147,  10.2345],\n",
      "        [ 10.1187, -14.8364,   0.7325,  18.6412,  16.4580,  19.4095,  -4.8196,\n",
      "          -6.1354,  16.2302,  10.8306],\n",
      "        [  6.6249, -15.1291,   8.6642,  16.0129,   6.2001,  14.4898,   4.3779,\n",
      "          -4.2400,  10.8537,  12.3929],\n",
      "        [  8.2778,  -3.4989,   6.4031,  10.6165,  -4.1418,  18.4534,   9.2699,\n",
      "          -8.2354,   6.5723,   3.0584],\n",
      "        [  1.6127, -24.5705,   2.1847,   8.3594,   3.3693,  21.9698,   7.4634,\n",
      "           1.5913,  12.9107,  11.0715],\n",
      "        [ 11.2802, -12.3354,   1.9087,  14.0217,  -4.8278,  17.2891,  12.4761,\n",
      "         -12.4094,   6.8569,   3.7057],\n",
      "        [ -1.6418, -15.0687,   2.1889,  23.2457,   6.3456,  14.8511,   3.7893,\n",
      "          -4.3596,  12.0031,   5.7227],\n",
      "        [ 13.8642, -22.9354,   7.1241,  12.9724,   1.8292,  25.7000,   2.7661,\n",
      "          -7.0213,   5.1926,   7.1621],\n",
      "        [  9.2462, -19.4607,   2.5377,  22.2998,   8.0402,  10.7563,   7.1113,\n",
      "          -3.4626,  17.3436,   4.8006],\n",
      "        [ 17.4048, -24.9951,  -0.3678,  24.5695,   5.2976,  17.4759,   2.9052,\n",
      "         -11.7749,  -1.5569,   9.0615],\n",
      "        [ 14.4145, -17.6086,   7.8390,  11.9100,   4.7081,  21.3244,   9.9849,\n",
      "         -12.9358,   5.3192,  11.8013],\n",
      "        [ -0.9797,  -9.1213,   8.4159,  22.2772,   3.5144,  13.4203,  -4.4966,\n",
      "           2.5758,  15.0330,   3.5229],\n",
      "        [  4.3984, -14.1401,  12.3729,   6.6561,   6.0883,  23.1980,   7.0305,\n",
      "          -3.2879,   7.1086,  -0.4637],\n",
      "        [ -1.1134, -12.0231,   1.5031,  16.2072,   3.0047,  15.0930,  10.7496,\n",
      "          -2.6923,  11.7791,   3.8055],\n",
      "        [  0.6611, -14.5377,   8.5469,  23.3461,  12.0454,  17.3268,  -0.9543,\n",
      "          -4.9946,   3.0537,   6.9915],\n",
      "        [  6.8624, -19.6938,   5.4676,  18.8784,   2.3841,  16.4352,  -3.6001,\n",
      "          -5.9493,  -2.1510,   4.1748],\n",
      "        [ 12.5489, -16.5870,  -3.6728,  22.5369,   3.6727,  12.4267,   3.1617,\n",
      "          -5.0830,   3.4937,   5.8738],\n",
      "        [ 12.8015, -19.8546,  -4.6425,  10.5654,  -3.1170,  20.3049,   3.4057,\n",
      "          -2.9776,   5.4698,   7.7945]])\n"
     ]
    }
   ],
   "source": [
    "## Solution\n",
    "def activation(x):\n",
    "    return 1/(1+torch.exp(-x))\n",
    "\n",
    "# Flatten the input images\n",
    "inputs = images.view(images.shape[0], -1)\n",
    "\n",
    "# Create parameters\n",
    "w1 = torch.randn(784, 256)\n",
    "b1 = torch.randn(256)\n",
    "\n",
    "w2 = torch.randn(256, 10)\n",
    "b2 = torch.randn(10)\n",
    "\n",
    "h = activation(torch.mm(inputs, w1) + b1)\n",
    "\n",
    "out = torch.mm(h, w2) + b2\n",
    "\n",
    "print(out)"
   ]
  },
  {
   "cell_type": "markdown",
   "metadata": {},
   "source": [
    "Now we have 10 outputs for our network. We want to pass in an image to our network and get out a probability distribution over the classes that tells us the likely class(es) the image belongs to. Something that looks like this:\n",
    "<img src='assets/image_distribution.png' width=500px>\n",
    "\n",
    "Here we see that the probability for each class is roughly the same. This is representing an untrained network, it hasn't seen any data yet so it just returns a uniform distribution with equal probabilities for each class.\n",
    "\n",
    "To calculate this probability distribution, we often use the [**softmax** function](https://en.wikipedia.org/wiki/Softmax_function). Mathematically this looks like\n",
    "\n",
    "$$\n",
    "\\Large \\sigma(x_i) = \\cfrac{e^{x_i}}{\\sum_k^K{e^{x_k}}}\n",
    "$$\n",
    "\n",
    "What this does is squish each input $x_i$ between 0 and 1 and normalizes the values to give you a proper probability distribution where the probabilites sum up to one.\n",
    "\n",
    "> **Exercise:** Implement a function `softmax` that performs the softmax calculation and returns probability distributions for each example in the batch. Note that you'll need to pay attention to the shapes when doing this. If you have a tensor `a` with shape `(64, 10)` and a tensor `b` with shape `(64,)`, doing `a/b` will give you an error because PyTorch will try to do the division across the columns (called broadcasting) but you'll get a size mismatch. The way to think about this is for each of the 64 examples, you only want to divide by one value, the sum in the denominator. So you need `b` to have a shape of `(64, 1)`. This way PyTorch will divide the 10 values in each row of `a` by the one value in each row of `b`. Pay attention to how you take the sum as well. You'll need to define the `dim` keyword in `torch.sum`. Setting `dim=0` takes the sum across the rows while `dim=1` takes the sum across the columns."
   ]
  },
  {
   "cell_type": "code",
   "execution_count": 6,
   "metadata": {},
   "outputs": [
    {
     "name": "stdout",
     "output_type": "stream",
     "text": [
      "torch.Size([64, 10])\n",
      "tensor([1.0000, 1.0000, 1.0000, 1.0000, 1.0000, 1.0000, 1.0000, 1.0000, 1.0000,\n",
      "        1.0000, 1.0000, 1.0000, 1.0000, 1.0000, 1.0000, 1.0000, 1.0000, 1.0000,\n",
      "        1.0000, 1.0000, 1.0000, 1.0000, 1.0000, 1.0000, 1.0000, 1.0000, 1.0000,\n",
      "        1.0000, 1.0000, 1.0000, 1.0000, 1.0000, 1.0000, 1.0000, 1.0000, 1.0000,\n",
      "        1.0000, 1.0000, 1.0000, 1.0000, 1.0000, 1.0000, 1.0000, 1.0000, 1.0000,\n",
      "        1.0000, 1.0000, 1.0000, 1.0000, 1.0000, 1.0000, 1.0000, 1.0000, 1.0000,\n",
      "        1.0000, 1.0000, 1.0000, 1.0000, 1.0000, 1.0000, 1.0000, 1.0000, 1.0000,\n",
      "        1.0000])\n"
     ]
    }
   ],
   "source": [
    "## Solution\n",
    "def softmax(x):\n",
    "    return torch.exp(x)/torch.sum(torch.exp(x), dim=1).view(-1, 1)\n",
    "\n",
    "probabilities = softmax(out)\n",
    "\n",
    "# Does it have the right shape? Should be (64, 10)\n",
    "print(probabilities.shape)\n",
    "# Does it sum to 1?\n",
    "print(probabilities.sum(dim=1))"
   ]
  },
  {
   "cell_type": "markdown",
   "metadata": {},
   "source": [
    "## Building networks with PyTorch\n",
    "\n",
    "PyTorch provides a module `nn` that makes building networks much simpler. Here I'll show you how to build the same one as above with 784 inputs, 256 hidden units, 10 output units and a softmax output."
   ]
  },
  {
   "cell_type": "code",
   "execution_count": 7,
   "metadata": {},
   "outputs": [],
   "source": [
    "from torch import nn"
   ]
  },
  {
   "cell_type": "code",
   "execution_count": 8,
   "metadata": {},
   "outputs": [],
   "source": [
    "class Network(nn.Module):\n",
    "    def __init__(self):\n",
    "        super().__init__()\n",
    "        \n",
    "        # Inputs to hidden layer linear transformation\n",
    "        self.hidden = nn.Linear(784, 256)\n",
    "        # Output layer, 10 units - one for each digit\n",
    "        self.output = nn.Linear(256, 10)\n",
    "        \n",
    "        # Define sigmoid activation and softmax output \n",
    "        self.sigmoid = nn.Sigmoid()\n",
    "        self.softmax = nn.Softmax(dim=1)\n",
    "        \n",
    "    def forward(self, x):\n",
    "        # Pass the input tensor through each of our operations\n",
    "        x = self.hidden(x)\n",
    "        x = self.sigmoid(x)\n",
    "        x = self.output(x)\n",
    "        x = self.softmax(x)\n",
    "        \n",
    "        return x"
   ]
  },
  {
   "cell_type": "markdown",
   "metadata": {},
   "source": [
    "Let's go through this bit by bit.\n",
    "\n",
    "```python\n",
    "class Network(nn.Module):\n",
    "```\n",
    "\n",
    "Here we're inheriting from `nn.Module`. Combined with `super().__init__()` this creates a class that tracks the architecture and provides a lot of useful methods and attributes. It is mandatory to inherit from `nn.Module` when you're creating a class for your network. The name of the class itself can be anything.\n",
    "\n",
    "```python\n",
    "self.hidden = nn.Linear(784, 256)\n",
    "```\n",
    "\n",
    "This line creates a module for a linear transformation, $x\\mathbf{W} + b$, with 784 inputs and 256 outputs and assigns it to `self.hidden`. The module automatically creates the weight and bias tensors which we'll use in the `forward` method. You can access the weight and bias tensors once the network (`net`) is created with `net.hidden.weight` and `net.hidden.bias`.\n",
    "\n",
    "```python\n",
    "self.output = nn.Linear(256, 10)\n",
    "```\n",
    "\n",
    "Similarly, this creates another linear transformation with 256 inputs and 10 outputs.\n",
    "\n",
    "```python\n",
    "self.sigmoid = nn.Sigmoid()\n",
    "self.softmax = nn.Softmax(dim=1)\n",
    "```\n",
    "\n",
    "Here I defined operations for the sigmoid activation and softmax output. Setting `dim=1` in `nn.Softmax(dim=1)` calculates softmax across the columns.\n",
    "\n",
    "```python\n",
    "def forward(self, x):\n",
    "```\n",
    "\n",
    "PyTorch networks created with `nn.Module` must have a `forward` method defined. It takes in a tensor `x` and passes it through the operations you defined in the `__init__` method.\n",
    "\n",
    "```python\n",
    "x = self.hidden(x)\n",
    "x = self.sigmoid(x)\n",
    "x = self.output(x)\n",
    "x = self.softmax(x)\n",
    "```\n",
    "\n",
    "Here the input tensor `x` is passed through each operation a reassigned to `x`. We can see that the input tensor goes through the hidden layer, then a sigmoid function, then the output layer, and finally the softmax function. It doesn't matter what you name the variables here, as long as the inputs and outputs of the operations match the network architecture you want to build. The order in which you define things in the `__init__` method doesn't matter, but you'll need to sequence the operations correctly in the `forward` method.\n",
    "\n",
    "Now we can create a `Network` object."
   ]
  },
  {
   "cell_type": "code",
   "execution_count": 9,
   "metadata": {},
   "outputs": [
    {
     "data": {
      "text/plain": [
       "Network(\n",
       "  (hidden): Linear(in_features=784, out_features=256, bias=True)\n",
       "  (output): Linear(in_features=256, out_features=10, bias=True)\n",
       "  (sigmoid): Sigmoid()\n",
       "  (softmax): Softmax()\n",
       ")"
      ]
     },
     "execution_count": 9,
     "metadata": {},
     "output_type": "execute_result"
    }
   ],
   "source": [
    "# Create the network and look at it's text representation\n",
    "model = Network()\n",
    "model"
   ]
  },
  {
   "cell_type": "markdown",
   "metadata": {},
   "source": [
    "You can define the network somewhat more concisely and clearly using the `torch.nn.functional` module. This is the most common way you'll see networks defined as many operations are simple element-wise functions. We normally import this module as `F`, `import torch.nn.functional as F`."
   ]
  },
  {
   "cell_type": "code",
   "execution_count": 10,
   "metadata": {},
   "outputs": [],
   "source": [
    "import torch.nn.functional as F\n",
    "\n",
    "class Network(nn.Module):\n",
    "    def __init__(self):\n",
    "        super().__init__()\n",
    "        # Inputs to hidden layer linear transformation\n",
    "        self.hidden = nn.Linear(784, 256)\n",
    "        # Output layer, 10 units - one for each digit\n",
    "        self.output = nn.Linear(256, 10)\n",
    "        \n",
    "    def forward(self, x):\n",
    "        # Hidden layer with sigmoid activation\n",
    "        x = F.sigmoid(self.hidden(x))\n",
    "        # Output layer with softmax activation\n",
    "        x = F.softmax(self.output(x), dim=1)\n",
    "        \n",
    "        return x"
   ]
  },
  {
   "cell_type": "markdown",
   "metadata": {},
   "source": [
    "### Activation functions\n",
    "\n",
    "So far we've only been looking at the softmax activation, but in general any function can be used as an activation function. The only requirement is that for a network to approximate a non-linear function, the activation functions must be non-linear. Here are a few more examples of common activation functions: Tanh (hyperbolic tangent), and ReLU (rectified linear unit).\n",
    "\n",
    "<img src=\"assets/activation.png\" width=700px>\n",
    "\n",
    "In practice, the ReLU function is used almost exclusively as the activation function for hidden layers."
   ]
  },
  {
   "cell_type": "markdown",
   "metadata": {},
   "source": [
    "### Your Turn to Build a Network\n",
    "\n",
    "<img src=\"assets/mlp_mnist.png\" width=600px>\n",
    "\n",
    "> **Exercise:** Create a network with 784 input units, a hidden layer with 128 units and a ReLU activation, then a hidden layer with 64 units and a ReLU activation, and finally an output layer with a softmax activation as shown above. You can use a ReLU activation with the `nn.ReLU` module or `F.relu` function.\n",
    "\n",
    "It's good practice to name your layers by their type of network, for instance 'fc' to represent a fully-connected layer. As you code your solution, use `fc1`, `fc2`, and `fc3` as your layer names."
   ]
  },
  {
   "cell_type": "code",
   "execution_count": 11,
   "metadata": {
    "scrolled": true
   },
   "outputs": [
    {
     "data": {
      "text/plain": [
       "Network(\n",
       "  (fc1): Linear(in_features=784, out_features=128, bias=True)\n",
       "  (fc2): Linear(in_features=128, out_features=64, bias=True)\n",
       "  (fc3): Linear(in_features=64, out_features=10, bias=True)\n",
       ")"
      ]
     },
     "execution_count": 11,
     "metadata": {},
     "output_type": "execute_result"
    }
   ],
   "source": [
    "## Solution\n",
    "\n",
    "class Network(nn.Module):\n",
    "    def __init__(self):\n",
    "        super().__init__()\n",
    "        # Defining the layers, 128, 64, 10 units each\n",
    "        self.fc1 = nn.Linear(784, 128)\n",
    "        self.fc2 = nn.Linear(128, 64)\n",
    "        # Output layer, 10 units - one for each digit\n",
    "        self.fc3 = nn.Linear(64, 10)\n",
    "        \n",
    "    def forward(self, x):\n",
    "        ''' Forward pass through the network, returns the output logits '''\n",
    "        \n",
    "        x = self.fc1(x)\n",
    "        x = F.relu(x)\n",
    "        x = self.fc2(x)\n",
    "        x = F.relu(x)\n",
    "        x = self.fc3(x)\n",
    "        x = F.softmax(x, dim=1)\n",
    "        \n",
    "        return x\n",
    "\n",
    "model = Network()\n",
    "model"
   ]
  },
  {
   "cell_type": "markdown",
   "metadata": {},
   "source": [
    "### Initializing weights and biases\n",
    "\n",
    "The weights and such are automatically initialized for you, but it's possible to customize how they are initialized. The weights and biases are tensors attached to the layer you defined, you can get them with `model.fc1.weight` for instance."
   ]
  },
  {
   "cell_type": "code",
   "execution_count": 12,
   "metadata": {},
   "outputs": [
    {
     "name": "stdout",
     "output_type": "stream",
     "text": [
      "Parameter containing:\n",
      "tensor([[-0.0131,  0.0086,  0.0236,  ..., -0.0298, -0.0132, -0.0070],\n",
      "        [ 0.0071, -0.0226, -0.0253,  ..., -0.0165,  0.0121,  0.0218],\n",
      "        [-0.0308,  0.0193,  0.0213,  ..., -0.0150, -0.0249,  0.0018],\n",
      "        ...,\n",
      "        [-0.0341, -0.0325, -0.0288,  ...,  0.0111,  0.0204, -0.0072],\n",
      "        [ 0.0219, -0.0085, -0.0125,  ...,  0.0026, -0.0181, -0.0061],\n",
      "        [-0.0004,  0.0230,  0.0100,  ...,  0.0112,  0.0054,  0.0105]],\n",
      "       requires_grad=True)\n",
      "Parameter containing:\n",
      "tensor([ 0.0212, -0.0090,  0.0289,  0.0331,  0.0128, -0.0031,  0.0097, -0.0322,\n",
      "         0.0040, -0.0316,  0.0113, -0.0264, -0.0353,  0.0348, -0.0199,  0.0196,\n",
      "        -0.0279,  0.0195, -0.0267, -0.0247, -0.0003,  0.0129, -0.0195, -0.0315,\n",
      "         0.0200, -0.0221,  0.0051,  0.0165,  0.0262,  0.0065,  0.0215,  0.0343,\n",
      "         0.0352,  0.0072,  0.0264, -0.0106, -0.0159,  0.0313, -0.0307, -0.0107,\n",
      "         0.0352,  0.0305, -0.0019,  0.0322, -0.0351, -0.0277, -0.0116, -0.0197,\n",
      "         0.0153,  0.0092, -0.0275, -0.0006,  0.0235, -0.0162, -0.0178, -0.0103,\n",
      "        -0.0312,  0.0262, -0.0307, -0.0023,  0.0140,  0.0064, -0.0337,  0.0023,\n",
      "        -0.0229,  0.0085,  0.0072,  0.0286, -0.0080, -0.0227, -0.0261, -0.0202,\n",
      "        -0.0300,  0.0158,  0.0090,  0.0034,  0.0222,  0.0069,  0.0351,  0.0007,\n",
      "        -0.0136, -0.0124, -0.0077,  0.0280, -0.0320,  0.0346,  0.0319,  0.0149,\n",
      "        -0.0158,  0.0189,  0.0126,  0.0353,  0.0075,  0.0230, -0.0263, -0.0244,\n",
      "        -0.0311,  0.0079,  0.0106,  0.0260,  0.0243,  0.0301, -0.0307, -0.0334,\n",
      "         0.0004, -0.0106,  0.0063,  0.0225,  0.0310,  0.0027,  0.0283,  0.0066,\n",
      "         0.0153,  0.0327, -0.0003, -0.0116, -0.0144, -0.0236,  0.0018,  0.0121,\n",
      "        -0.0226, -0.0004,  0.0329, -0.0213,  0.0086,  0.0128,  0.0104,  0.0163],\n",
      "       requires_grad=True)\n"
     ]
    }
   ],
   "source": [
    "print(model.fc1.weight)\n",
    "print(model.fc1.bias)"
   ]
  },
  {
   "cell_type": "markdown",
   "metadata": {},
   "source": [
    "For custom initialization, we want to modify these tensors in place. These are actually autograd *Variables*, so we need to get back the actual tensors with `model.fc1.weight.data`. Once we have the tensors, we can fill them with zeros (for biases) or random normal values."
   ]
  },
  {
   "cell_type": "code",
   "execution_count": 13,
   "metadata": {},
   "outputs": [
    {
     "data": {
      "text/plain": [
       "tensor([0., 0., 0., 0., 0., 0., 0., 0., 0., 0., 0., 0., 0., 0., 0., 0., 0., 0., 0., 0., 0., 0., 0., 0.,\n",
       "        0., 0., 0., 0., 0., 0., 0., 0., 0., 0., 0., 0., 0., 0., 0., 0., 0., 0., 0., 0., 0., 0., 0., 0.,\n",
       "        0., 0., 0., 0., 0., 0., 0., 0., 0., 0., 0., 0., 0., 0., 0., 0., 0., 0., 0., 0., 0., 0., 0., 0.,\n",
       "        0., 0., 0., 0., 0., 0., 0., 0., 0., 0., 0., 0., 0., 0., 0., 0., 0., 0., 0., 0., 0., 0., 0., 0.,\n",
       "        0., 0., 0., 0., 0., 0., 0., 0., 0., 0., 0., 0., 0., 0., 0., 0., 0., 0., 0., 0., 0., 0., 0., 0.,\n",
       "        0., 0., 0., 0., 0., 0., 0., 0.])"
      ]
     },
     "execution_count": 13,
     "metadata": {},
     "output_type": "execute_result"
    }
   ],
   "source": [
    "# Set biases to all zeros\n",
    "model.fc1.bias.data.fill_(0)"
   ]
  },
  {
   "cell_type": "code",
   "execution_count": 14,
   "metadata": {},
   "outputs": [
    {
     "data": {
      "text/plain": [
       "tensor([[-0.0022,  0.0014,  0.0002,  ...,  0.0074, -0.0031,  0.0121],\n",
       "        [ 0.0007,  0.0070, -0.0054,  ..., -0.0242,  0.0059,  0.0089],\n",
       "        [-0.0011,  0.0058, -0.0031,  ...,  0.0150, -0.0033, -0.0032],\n",
       "        ...,\n",
       "        [-0.0084, -0.0028, -0.0171,  ..., -0.0007, -0.0062,  0.0011],\n",
       "        [-0.0056, -0.0156,  0.0056,  ...,  0.0016,  0.0155,  0.0066],\n",
       "        [ 0.0090, -0.0160,  0.0007,  ...,  0.0165, -0.0083, -0.0068]])"
      ]
     },
     "execution_count": 14,
     "metadata": {},
     "output_type": "execute_result"
    }
   ],
   "source": [
    "# sample from random normal with standard dev = 0.01\n",
    "model.fc1.weight.data.normal_(std=0.01)"
   ]
  },
  {
   "cell_type": "markdown",
   "metadata": {},
   "source": [
    "### Forward pass\n",
    "\n",
    "Now that we have a network, let's see what happens when we pass in an image."
   ]
  },
  {
   "cell_type": "code",
   "execution_count": 15,
   "metadata": {},
   "outputs": [
    {
     "data": {
      "image/png": "[encoded data removed]",
      "text/plain": [
       "<Figure size 432x648 with 2 Axes>"
      ]
     },
     "metadata": {
      "image/png": {
       "height": 226,
       "width": 423
      },
      "needs_background": "light"
     },
     "output_type": "display_data"
    }
   ],
   "source": [
    "# Grab some data \n",
    "dataiter = iter(trainloader)\n",
    "images, labels = dataiter.next()\n",
    "\n",
    "# Resize images into a 1D vector, new shape is (batch size, color channels, image pixels) \n",
    "images.resize_(64, 1, 784)\n",
    "# or images.resize_(images.shape[0], 1, 784) to automatically get batch size\n",
    "\n",
    "# Forward pass through the network\n",
    "img_idx = 0\n",
    "ps = model.forward(images[img_idx,:])\n",
    "\n",
    "img = images[img_idx]\n",
    "helper.view_classify(img.view(1, 28, 28), ps)"
   ]
  },
  {
   "cell_type": "markdown",
   "metadata": {},
   "source": [
    "As you can see above, our network has basically no idea what this digit is. It's because we haven't trained it yet, all the weights are random!\n",
    "\n",
    "### Using `nn.Sequential`\n",
    "\n",
    "PyTorch provides a convenient way to build networks like this where a tensor is passed sequentially through operations, `nn.Sequential` ([documentation](https://pytorch.org/docs/master/nn.html#torch.nn.Sequential)). Using this to build the equivalent network:"
   ]
  },
  {
   "cell_type": "code",
   "execution_count": 16,
   "metadata": {},
   "outputs": [
    {
     "name": "stdout",
     "output_type": "stream",
     "text": [
      "Sequential(\n",
      "  (0): Linear(in_features=784, out_features=128, bias=True)\n",
      "  (1): ReLU()\n",
      "  (2): Linear(in_features=128, out_features=64, bias=True)\n",
      "  (3): ReLU()\n",
      "  (4): Linear(in_features=64, out_features=10, bias=True)\n",
      "  (5): Softmax()\n",
      ")\n"
     ]
    },
    {
     "data": {
      "image/png": "[encoded data removed]",
      "text/plain": [
       "<Figure size 432x648 with 2 Axes>"
      ]
     },
     "metadata": {
      "image/png": {
       "height": 226,
       "width": 423
      },
      "needs_background": "light"
     },
     "output_type": "display_data"
    }
   ],
   "source": [
    "# Hyperparameters for our network\n",
    "input_size = 784\n",
    "hidden_sizes = [128, 64]\n",
    "output_size = 10\n",
    "\n",
    "# Build a feed-forward network\n",
    "model = nn.Sequential(nn.Linear(input_size, hidden_sizes[0]),\n",
    "                      nn.ReLU(),\n",
    "                      nn.Linear(hidden_sizes[0], hidden_sizes[1]),\n",
    "                      nn.ReLU(),\n",
    "                      nn.Linear(hidden_sizes[1], output_size),\n",
    "                      nn.Softmax(dim=1))\n",
    "print(model)\n",
    "\n",
    "# Forward pass through the network and display output\n",
    "images, labels = next(iter(trainloader))\n",
    "images.resize_(images.shape[0], 1, 784)\n",
    "ps = model.forward(images[0,:])\n",
    "helper.view_classify(images[0].view(1, 28, 28), ps)"
   ]
  },
  {
   "cell_type": "markdown",
   "metadata": {},
   "source": [
    "The operations are availble by passing in the appropriate index. For example, if you want to get first Linear operation and look at the weights, you'd use `model[0]`."
   ]
  },
  {
   "cell_type": "code",
   "execution_count": 17,
   "metadata": {},
   "outputs": [
    {
     "name": "stdout",
     "output_type": "stream",
     "text": [
      "Linear(in_features=784, out_features=128, bias=True)\n"
     ]
    },
    {
     "data": {
      "text/plain": [
       "Parameter containing:\n",
       "tensor([[-0.0020, -0.0016,  0.0005,  ...,  0.0352, -0.0147, -0.0261],\n",
       "        [ 0.0148, -0.0226,  0.0096,  ...,  0.0306, -0.0210, -0.0311],\n",
       "        [ 0.0250,  0.0160, -0.0243,  ...,  0.0082,  0.0102,  0.0199],\n",
       "        ...,\n",
       "        [-0.0097,  0.0337,  0.0188,  ..., -0.0145,  0.0232, -0.0325],\n",
       "        [ 0.0318, -0.0165,  0.0275,  ..., -0.0184, -0.0333,  0.0055],\n",
       "        [-0.0343, -0.0077, -0.0066,  ...,  0.0034,  0.0150, -0.0211]],\n",
       "       requires_grad=True)"
      ]
     },
     "execution_count": 17,
     "metadata": {},
     "output_type": "execute_result"
    }
   ],
   "source": [
    "print(model[0])\n",
    "model[0].weight"
   ]
  },
  {
   "cell_type": "markdown",
   "metadata": {},
   "source": [
    "You can also pass in an `OrderedDict` to name the individual layers and operations, instead of using incremental integers. Note that dictionary keys must be unique, so _each operation must have a different name_."
   ]
  },
  {
   "cell_type": "code",
   "execution_count": 18,
   "metadata": {},
   "outputs": [
    {
     "data": {
      "text/plain": [
       "Sequential(\n",
       "  (fc1): Linear(in_features=784, out_features=128, bias=True)\n",
       "  (relu1): ReLU()\n",
       "  (fc2): Linear(in_features=128, out_features=64, bias=True)\n",
       "  (relu2): ReLU()\n",
       "  (output): Linear(in_features=64, out_features=10, bias=True)\n",
       "  (softmax): Softmax()\n",
       ")"
      ]
     },
     "execution_count": 18,
     "metadata": {},
     "output_type": "execute_result"
    }
   ],
   "source": [
    "from collections import OrderedDict\n",
    "model = nn.Sequential(OrderedDict([\n",
    "                      ('fc1', nn.Linear(input_size, hidden_sizes[0])),\n",
    "                      ('relu1', nn.ReLU()),\n",
    "                      ('fc2', nn.Linear(hidden_sizes[0], hidden_sizes[1])),\n",
    "                      ('relu2', nn.ReLU()),\n",
    "                      ('output', nn.Linear(hidden_sizes[1], output_size)),\n",
    "                      ('softmax', nn.Softmax(dim=1))]))\n",
    "model"
   ]
  },
  {
   "cell_type": "markdown",
   "metadata": {},
   "source": [
    "Now you can access layers either by integer or the name"
   ]
  },
  {
   "cell_type": "code",
   "execution_count": 19,
   "metadata": {},
   "outputs": [
    {
     "name": "stdout",
     "output_type": "stream",
     "text": [
      "Linear(in_features=784, out_features=128, bias=True)\n",
      "Linear(in_features=784, out_features=128, bias=True)\n"
     ]
    }
   ],
   "source": [
    "print(model[0])\n",
    "print(model.fc1)"
   ]
  }
 ],
 "metadata": {
  "kernelspec": {
   "display_name": "Python 3",
   "language": "python",
   "name": "python3"
  },
  "language_info": {
   "codemirror_mode": {
    "name": "ipython",
    "version": 3
   },
   "file_extension": ".py",
   "mimetype": "text/x-python",
   "name": "python",
   "nbconvert_exporter": "python",
   "pygments_lexer": "ipython3",
   "version": "3.7.1"
  }
 },
 "nbformat": 4,
 "nbformat_minor": 2
}
